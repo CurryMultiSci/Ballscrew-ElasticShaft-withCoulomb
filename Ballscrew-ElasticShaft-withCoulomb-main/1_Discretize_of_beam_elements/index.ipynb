{
 "cells": [
  {
   "cell_type": "markdown",
   "metadata": {},
   "source": [
    "## 1. Discretize of beam elements\n",
    "Improving Timoshenko's Model Represented by Euler Angles.\n",
    "\n",
    "\n",
    "### 1.1. Representation using quaternions\n",
    "Since NSK uses quaternions to handle posture, we will model the quaternion representation in this program as well. Although there is an idea to convert Euler angles and quaternions for each calculation, we will use the direct quaternion method this time because it seems to be computationally expensive and there are already previous studies.\n",
    "\n",
    "#### 1.1.1. Why quaternions?\n",
    "Light computational cost. Gimbal lock does not occur.\n",
    "\n",
    "|                 | Parameters | Memory | Handling | Notes                                                                   |\n",
    "|:---------------:|:----------:|:------:|:--------:|:-----------------------------------------------------------------------:|\n",
    "| Quaternion      | 4          | 0.5    | 1        | Has a good balance of abilities                                         |\n",
    "| Eular           | 3          | 1      | 0        | The gradient per unit attitude change differs depending on the attitude |\n",
    "| Rotation Matrix | 9          | 0      | 0.5      |                                                                         |"
   ]
  },
  {
   "cell_type": "code",
   "execution_count": 1,
   "metadata": {},
   "outputs": [],
   "source": [
    "import numpy as np  # The next command is required: \"pip install -U numpy\"\n",
    "import quaternion   # The next command is required: \"pip install numpy-quaternion\"\n"
   ]
  },
  {
   "cell_type": "markdown",
   "metadata": {},
   "source": [
    "#### Simple Example\n",
    "\n",
    "Make $q_0$ which means $60^o(= \\frac{\\pi}{3})$ degree rotation around the $z(=\\begin{bmatrix} 0\\\\0\\\\1\\end{bmatrix})$ axis.\n"
   ]
  },
  {
   "cell_type": "code",
   "execution_count": 2,
   "metadata": {},
   "outputs": [
    {
     "name": "stdout",
     "output_type": "stream",
     "text": [
      "quaternion(0.866025403784439, 0, 0, 0.5)\n"
     ]
    }
   ],
   "source": [
    "q0 = quaternion.from_rotation_vector(np.array([0, 0, 1]) * np.pi / 3)\n",
    "print(q0)"
   ]
  },
  {
   "cell_type": "markdown",
   "metadata": {},
   "source": [
    "$$\n",
    "q_0 = \\begin{bmatrix} \\cos \\frac{\\theta}{2}\\\\ \\sin \\frac{\\theta}{2} \\begin{bmatrix} x\\\\y\\\\z \\end{bmatrix} \\end{bmatrix} = \\begin{bmatrix} \\cos \\frac{60^0}{2}\\\\ 0 \\\\ 0 \\\\ \\sin \\frac{60^0}{2} \\end{bmatrix} = \\begin{bmatrix} \\frac{\\sqrt{3}}{2}\\\\ 0 \\\\ 0 \\\\ \\frac{1}{2} \\end{bmatrix}\n",
    "$$\n",
    "\n",
    "If we use this quaternion to calculate the rotation, we get this result.\n"
   ]
  },
  {
   "cell_type": "code",
   "execution_count": 25,
   "metadata": {},
   "outputs": [
    {
     "name": "stdout",
     "output_type": "stream",
     "text": [
      "[0.5       0.8660254 0.       ]\n",
      "[-0.8660254  0.5        0.       ]\n",
      "[0. 0. 1.]\n"
     ]
    }
   ],
   "source": [
    "print(quaternion.rotate_vectors(q0, np.array([1, 0, 0])))\n",
    "print(quaternion.rotate_vectors(q0, np.array([0, 1, 0])))\n",
    "print(quaternion.rotate_vectors(q0, np.array([0, 0, 1])))\n"
   ]
  },
  {
   "cell_type": "markdown",
   "metadata": {},
   "source": [
    "$$\n",
    "q_0 \\otimes \\begin{bmatrix} 1\\\\0\\\\0\\end{bmatrix}=\\begin{bmatrix} \\frac{1}{2}\\\\\\frac{\\sqrt{3}}{2}\\\\0\\end{bmatrix}, \n",
    "q_0 \\otimes \\begin{bmatrix} 0\\\\1\\\\0\\end{bmatrix}=\\begin{bmatrix} - \\frac{\\sqrt{3}}{2}\\\\ \\frac{1}{2}\\\\0\\end{bmatrix}, \n",
    "q_0 \\otimes \\begin{bmatrix} 0\\\\0\\\\1\\end{bmatrix}=\\begin{bmatrix} 0\\\\  0\\\\ 1 \\end{bmatrix}\n",
    "$$\n",
    "\n",
    "\n",
    "\n",
    "#### 1.1.2. Previous research\n",
    "\n",
    "Two types of modeling of beams by quaternions have been presented by the same laboratory.\n",
    "\n",
    "|Kinematically Exact Beam Finite Elements Based on Quaternion Algebra (2014)|A consistent strain-based beam element with quaternion representation of rotations (2020)|\n",
    "|:---:|:---:|\n",
    "|![1‗2014](1_2014.png)|![1_2020](1_2020.png)|\n",
    "|Eva Zupan, Miran Saje, **Dejan Zupan**|Damjan Loli, **Dejan Zupan**, Miha Brojan|\n",
    "|University of Ljubljana|University of Ljubljana|\n",
    "|Simple|Complex|\n",
    "|displacement-based|strain-based|\n",
    "|12 DOFs per element|26 DOFs per element|\n",
    "|**to small shear deformations**|to larger shear deformations|\n",
    "\n",
    "In order to deal with the deformation of the ballscrew this time, we do not need to consider \"larger shear deformations\", so I will deal with the **2014 model**.\n"
   ]
  },
  {
   "cell_type": "markdown",
   "metadata": {},
   "source": [
    "#### Beam Model\n",
    "\n",
    "input:\n",
    "\n",
    "$\n",
    "p=0...N+1,\n",
    "\\chi_p,\n",
    "r_g(\\chi_p),\n",
    "\\hat{q}(\\chi_p)\n",
    "$\n",
    "\n",
    "parameter:\n",
    "\n",
    "$\n",
    "\\mathscr C _N = \\begin{bmatrix} EA_1 & 0 & 0 \\\\ 0 & GA_2 & 0 \\\\ 0 & 0 & GA_3 \\end{bmatrix} \\gamma _G(\\chi _k),\n",
    "\\mathscr C _M = \\begin{bmatrix} GJ_1 & 0 & 0 \\\\ 0 & EJ_2 & 0 \\\\ 0 & 0 & EJ_3 \\end{bmatrix} \\kappa _G(\\chi _k)\n",
    "$\n",
    "\n",
    "local variable:\n",
    "\n",
    "$\n",
    "k=1...N,\n",
    "n_g(\\chi_k),\n",
    "\\hat{m}_g(\\chi_k),\n",
    "N_g(\\frac{L}{2}),\n",
    "M_g(\\frac{L}{2})\n",
    "$\n",
    "\n",
    "$\n",
    "r'_g(\\chi_k) \\approx \\frac{r_g(\\chi_{k + 1}) - r_g(\\chi_{k - 1})}{2} \\frac{L}{N + 1},\n",
    "r'_g(\\chi_k) \\approx \\frac{r_g(\\chi_{k + 1}) - r_g(\\chi_{k - 1})}{2} \\frac{L}{N + 1}\n",
    "$\n",
    "\n",
    "$\n",
    "\\gamma _G(\\chi _k) = \\left[ \\hat{q}^*(\\chi_k) \\circ \\hat r' _g(\\chi _k) \\circ \\hat{q}(\\chi_k) \\right] _{\\mathbb{R}^3},\n",
    "\\kappa _G(\\chi _k) = 2 \\left[ \\hat{q}^*(\\chi_k) \\circ \\hat{q}'(\\chi_k) \\right] _{\\mathbb{R}^3}\n",
    "$\n",
    "\n",
    "output (k):\n",
    "\n",
    "$\n",
    "\\left[\\hat{q}(\\chi_k) \\circ \\mathscr {\\hat C} _N \\circ \\hat{q}^*(\\chi_k) \\right]' _{\\mathbb{R}^3} + n_g(\\chi_k) = 0\n",
    "$\n",
    "\n",
    "$\n",
    "\\left( \\hat{q}(\\chi_k) \\circ \\mathscr {\\hat C} _M \\circ \\hat{q}^*(\\chi_k) \\right)' + \\hat{m}_g(\\chi_k) - N_g(\\frac{L}{2})\\times r'_g(\\chi_k)  + \\int_{\\chi_k}^{L / 2} n_g(\\chi) \\,d\\chi \\times r'_g(\\chi_k) = 0\n",
    "$\n",
    "\n",
    "output:\n",
    "\n",
    "$\n",
    "F_g(0) + N_g(\\frac{L}{2}) + \\int_{0}^{L / 2} n_g(\\chi) \\,d\\chi = 0\n",
    "$\n",
    "\n",
    "$\n",
    "P_g(0) + M_g(\\frac{L}{2}) - N_g(\\frac{L}{2}) \\times \\left( r_g(\\frac{L}{2}) - r_g(0) \\right) - \\int_{0}^{L / 2} n_g(\\chi) \\times \\left(r_g(\\chi) - r_g(0) \\right) \\,d\\chi + \\int_{0}^{L / 2} m_g(\\chi) \\,d\\chi = 0\n",
    "$\n",
    "\n",
    "$\n",
    "F_g(L) - N_g(\\frac{L}{2}) + \\int_{L / 2}^{L} n_g(\\chi) \\,d\\chi = 0\n",
    "$\n",
    "\n",
    "$\n",
    "P_g(L) - M_g(\\frac{L}{2}) - N_g(\\frac{L}{2}) \\times \\left( r_g(L) - r_g(\\frac{L}{2}) \\right) + \\int_{L / 2}^{L} n_g(\\chi) \\times \\left(r_g(L) - r_g(\\chi) \\right) \\,d\\chi + \\int_{L / 2}^{L} m_g(\\chi) \\,d\\chi = 0\n",
    "$\n"
   ]
  },
  {
   "cell_type": "code",
   "execution_count": null,
   "metadata": {},
   "outputs": [],
   "source": []
  },
  {
   "cell_type": "markdown",
   "metadata": {},
   "source": [
    "#### hoge\n",
    "\n",
    "$\\delta \\hat \\kappa _G = 2 \\delta \\hat q ^* \\circ \\hat q' + 2 \\hat q ^* \\circ \\delta \\hat q'$"
   ]
  },
  {
   "cell_type": "code",
   "execution_count": 27,
   "metadata": {},
   "outputs": [],
   "source": [
    "def calc_delta_kappaG(q0, q1):\n",
    "    return 1"
   ]
  },
  {
   "cell_type": "markdown",
   "metadata": {},
   "source": [
    "$\n",
    "y ^{[n + 1]} = y ^{[n]} + \\delta y\n",
    "$\n",
    "\n",
    "$\n",
    "r_g ^{p [n + 1]} = r_g ^{p [n]} + \\delta r ^p _g \\qquad(p =0,..., N+1)\n",
    "$\n",
    "\n",
    "$\n",
    "N_g(\\chi) = N_g(\\frac{L}{2}) + \\int_{\\chi}^{L / 2} n_g \\,d\\xi\n",
    "$\n",
    "\n",
    "$\n",
    "M_g(\\chi) = M_g(\\frac{L}{2}) + \\int_{\\chi}^{L / 2} m_g \\,d\\xi - \\int_{\\chi}^{L / 2} N_g \\times r'_g \\,d\\xi\n",
    "$\n"
   ]
  },
  {
   "cell_type": "code",
   "execution_count": null,
   "metadata": {},
   "outputs": [],
   "source": []
  }
 ],
 "metadata": {
  "kernelspec": {
   "display_name": "Python 3",
   "language": "python",
   "name": "python3"
  },
  "language_info": {
   "codemirror_mode": {
    "name": "ipython",
    "version": 3
   },
   "file_extension": ".py",
   "mimetype": "text/x-python",
   "name": "python",
   "nbconvert_exporter": "python",
   "pygments_lexer": "ipython3",
   "version": "3.8.5"
  }
 },
 "nbformat": 4,
 "nbformat_minor": 4
}

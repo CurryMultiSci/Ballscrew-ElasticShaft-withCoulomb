{
 "cells": [
  {
   "cell_type": "markdown",
   "metadata": {},
   "source": [
    "## 多項式の項の求め方\n",
    "\n",
    "$$\n",
    "\\begin{equation}\n",
    "\\left\\{ \\,\n",
    "    \\begin{aligned}\n",
    "    \\theta_z(s) &= a_1 s^2 + a_2 s \\\\\n",
    "    y(s) &= (l_0 + \\Delta x) (\\frac{1}{3}a_1 s^3 + \\frac{1}{2}a _2s^2) \\\\\n",
    "    \\end{aligned}\n",
    "\\right.\n",
    "\\end{equation}\n",
    "$$\n",
    "\n",
    "$$\n",
    "\\begin{align}\n",
    "y(s) &= \\int_{0}^{s} \\theta_z(s) \\mathrm{d}x \\\\\n",
    "     &= \\int_{0}^{s} \\theta_z(s) \\frac{\\mathrm{d}x}{\\mathrm{d}s} \\mathrm{d}s \\\\\n",
    "     &= \\int_{0}^{s} (a_1 s^2 + a_2 s) (l_0 + \\Delta x) \\mathrm{d}s \\\\\n",
    "     &= (l_0 + \\Delta x) (\\frac{1}{3}a_1 s^3 + \\frac{1}{2}a _2s^2) \\\\\n",
    "\\end{align}\n",
    "$$\n",
    "\n",
    "$$\\left(\\theta_z(1)=\\theta_{z1}, y(1)=y_1 \\right)$$\n",
    "\n",
    "$$\n",
    "\\begin{align}\n",
    "\\left[ \\begin{array}{cccc}\n",
    "1 &1  \\\\\n",
    "\\frac{l_0 + \\Delta x}{3} & \\frac{l_0 + \\Delta x}{2} \\\\\n",
    "\\end{array}\\right]\n",
    "\\left[ \\begin{array}{cccc}\n",
    "a_1 \\\\\n",
    "a_2 \\\\\n",
    "\\end{array}\\right]\n",
    "&=\n",
    "\\left[ \\begin{array}{cccc}\n",
    "\\theta_{z1} \\\\\n",
    "y_1 \\\\\n",
    "\\end{array}\\right] \\\\\\\\\n",
    "\\left[ \\begin{array}{cccc}\n",
    "a_1 \\\\\n",
    "a_2 \\\\\n",
    "\\end{array}\\right]\n",
    "&=\n",
    "\\left[ \\begin{array}{cccc}\n",
    "3  &-\\frac{6}{l_0 + \\Delta x} \\\\\n",
    "-2 & \\frac{6}{l_0 + \\Delta x} \\\\\n",
    "\\end{array}\\right]\n",
    "\\left[ \\begin{array}{cccc}\n",
    "\\theta_{z1} \\\\\n",
    "y_1 \\\\\n",
    "\\end{array}\\right]\n",
    "\\end{align}\n",
    "$$\n"
   ]
  },
  {
   "cell_type": "code",
   "execution_count": 1,
   "metadata": {},
   "outputs": [],
   "source": [
    "import numpy as np  # The next command is required: \"pip install -U numpy\"\n",
    "import quaternion   # The next command is required: \"pip install numpy-quaternion\"\n"
   ]
  },
  {
   "cell_type": "code",
   "execution_count": 2,
   "metadata": {},
   "outputs": [],
   "source": [
    "def Beam_Deformation(x0, q0, x1, q1, l0):\n",
    "    \n",
    "    q0_inv = q0.inverse()\n",
    "    x1_ = quaternion.rotate_vectors(q0_inv, x1 - x0)\n",
    "\n",
    "    dx0 = x1_ - np.array([l0, 0, 0])\n",
    "    dq0 = q0_inv * q1 * 2\n",
    "    \n",
    "    l0_dx0  = l0 + dx0[0]\n",
    "    \n",
    "    return l0_dx0, dx0, dq0\n",
    "\n",
    "\n",
    "def Beam_Matrix(l0_dx0):\n",
    "    \n",
    "    ab_inv0 = np.array([[3,-6 / l0_dx0], [-2, 6 / l0_dx0]])\n",
    "    cd_inv0 = np.array([[3, 6 / l0_dx0], [-2,-6 / l0_dx0]])\n",
    "\n",
    "    return ab_inv0, cd_inv0\n",
    "\n",
    "\n",
    "def Beam_Coefficient(dx0, dq0, ab_inv0, cd_inv0):\n",
    "        \n",
    "    ab0 = ab_inv0 @ np.array([dq0.z, dx0[1]])\n",
    "    cd0 = cd_inv0 @ np.array([dq0.y, dx0[2]])\n",
    "    \n",
    "    return ab0, cd0\n",
    "\n",
    "# \n",
    "def Beam_Displacement(x0, q0, s, ab0, cd0, l0_dx0, dq0):\n",
    "    \n",
    "    s2 = s * s\n",
    "    s3 = s * s * s\n",
    "    \n",
    "    x_ = l0_dx0 * s\n",
    "    y_ = l0_dx0 * (ab0[0] / 3 * s3 + ab0[1] / 2 * s2)\n",
    "    z_ = l0_dx0 * (-cd0[0] / 3 * s3 - cd0[1] / 2 * s2)\n",
    "    \n",
    "    tx_ = dq0.x * s\n",
    "    ty_ = cd0[0] * s2 + cd0[1] * s\n",
    "    tz_ = ab0[0] * s2 + ab0[1] * s\n",
    "    \n",
    "    xs = x0 + quaternion.rotate_vectors(q0, np.array([x_,y_,z_]))\n",
    "    qs = q0 * quaternion.from_float_array([1, tx_/2, ty_/2, tz_/2]).normalized()\n",
    "    \n",
    "    return xs, qs\n",
    "\n",
    "def Beam_Displacement_All(x0, q0, x1, q1, l0, s):\n",
    "    \n",
    "    l0_dx0, dx0, dq0 = Beam_Deformation(x0, q0, x1, q1, l0)\n",
    "    ab_inv0, cd_inv0 = Beam_Matrix(l0_dx0)\n",
    "    ab0, cd0 = Beam_Coefficient(dx0, dq0, ab_inv0, cd_inv0)\n",
    "    xs, qs   = Beam_Displacement(x0, q0, s, ab0, cd0, l0_dx0, dq0)\n",
    "    \n",
    "    return xs, qs\n",
    "\n"
   ]
  },
  {
   "cell_type": "markdown",
   "metadata": {},
   "source": [
    "## 多項式近似を用いた梁の変位関数\n",
    "\n",
    "$$\n",
    "\\begin{align}\n",
    "x(s) &= (l_0 + \\Delta x) s \\\\\\\\\n",
    "y(s) &= (l_0 + \\Delta x) (\\frac{1}{3}a_1 s^3 + \\frac{1}{2}a _2 s^2) \\\\\\\\\n",
    "z(s) &= (l_0 + \\Delta x) (- \\frac{1}{3}a_3 s^3 - \\frac{1}{2}a_4 s^2) \\\\\\\\\n",
    "\\theta_x(s) &= \\Delta \\theta_x s \\\\\\\\\n",
    "\\theta_y(s) &= a_3 s^2 + a_4 s \\\\\\\\\n",
    "\\theta_z(s) &= a_1 s^2 + a_2 s \\\\\\\\\n",
    "(0 \\leq &s \\leq 1) \\\\\\\\\n",
    "\\end{align}\n",
    "$$\n",
    "\n"
   ]
  },
  {
   "cell_type": "code",
   "execution_count": 3,
   "metadata": {},
   "outputs": [
    {
     "name": "stdout",
     "output_type": "stream",
     "text": [
      "[-1.06455006 -0.57283734 -1.42940581] quaternion(0.233421507800587, -0.600965891700074, -0.72146316258677, 0.252676278545357)\n",
      "[-1.06455006 -0.57283734 -1.42940581] quaternion(0.233421507800587, -0.600965891700074, -0.72146316258677, 0.252676278545357)\n",
      "[-1.58056201  2.38133722 -1.32150319] quaternion(0.22800870705316, -0.598167707438739, -0.726444140485257, 0.2499726665859)\n",
      "[-1.58056201  2.38133722 -1.32150319] quaternion(0.228008894732551, -0.598167805036629, -0.726443968900899, 0.249972760492043)\n"
     ]
    }
   ],
   "source": [
    "error_scale = 1e-2\n",
    "\n",
    "x0 = np.random.randn(3)\n",
    "q0 = quaternion.from_float_array(np.random.randn(4)).normalized()\n",
    "dq = quaternion.from_float_array(np.append(1, np.random.randn(3) * error_scale)).normalized()\n",
    "q1 = q0 * dq\n",
    "x_unit = np.array([1, 0, 0])\n",
    "l0 = 3.0\n",
    "\n",
    "x1 = x0 + l0 * (quaternion.rotate_vectors(q0, x_unit)) + np.random.randn(3) * error_scale\n",
    "\n",
    "xs0, qs0 = Beam_Displacement_All(x0, q0, x1, q1, l0, 0.0)\n",
    "\n",
    "print(x0,  q0)\n",
    "print(xs0, qs0)\n",
    "\n",
    "xs1, qs1 = Beam_Displacement_All(x0, q0, x1, q1, l0, 1.0)\n",
    "\n",
    "print(x1,  q1)\n",
    "print(xs1, qs1)\n"
   ]
  },
  {
   "cell_type": "markdown",
   "metadata": {},
   "source": [
    "## 梁の断面位置を求める近似式について\n",
    "\n",
    "$$\n",
    "\\begin{align}\n",
    "\\vec{x}(s) &= \\vec{x}_0 + q_0 \\otimes \\left( \\left[ \\begin{array}{cccc} (l_0 + \\Delta x)s \\\\ (l_0 + \\Delta x) (\\frac{1}{3}a_1 s^3 + \\frac{1}{2}a_2s^2) \\\\ -(l_0 + \\Delta x) (\\frac{1}{3}a_3 s^3 + \\frac{1}{2}a_4 s^2) \\\\ \\end{array}\\right] + \\Delta q(s) \\otimes \\left[ \\begin{array}{cccc} 0 \\\\ u \\\\ v \\\\ \\end{array}\\right]\\right) \\\\\\\\\n",
    "&\\approx \\vec{x}_0 + q_0 \\otimes \\left( (l_0 + \\Delta x) \\left[ \\begin{array}{cccc} s \\\\ \\frac{1}{3}a_1 s^3 + \\frac{1}{2}a _2s^2 \\\\ - \\frac{1}{3}a_3 s^3 - \\frac{1}{2}a_4 s^2 \\\\ \\end{array}\\right] + \\left[ \\begin{array}{cccc} - \\theta_z u' + \\theta_y v' \\\\ u' \\\\ v' \\\\ \\end{array}\\right]\\right) \\\\\\\\\n",
    "\\end{align}\n",
    "$$\n",
    "\n",
    "$$\n",
    "\\left( \\Delta q_x \\otimes \\left[ \\begin{array}{cccc} 0 \\\\ u \\\\ v \\\\ \\end{array}\\right] = \\left[ \\begin{array}{cccc} 0 \\\\ u' \\\\ v' \\\\ \\end{array}\\right] \\right) \\\\\\\\\n",
    "$$\n",
    "\n",
    "$$\n",
    "\\left[ \\begin{array}{cccc} x_0 \\\\ y_0 \\\\ z_0 \\\\ \\end{array}\\right] \\approx (l_0 + \\Delta x) \\left[ \\begin{array}{cccc} s \\\\ \\frac{1}{3}a_1 s^3 + \\frac{1}{2}a _2s^2 \\\\ - \\frac{1}{3}a_3 s^3 - \\frac{1}{2}a_4 s^2 \\\\ \\end{array}\\right] + \\left[ \\begin{array}{cccc} - (a_1 s^2+a_2 s) u' + (a_3 s^2+a_4 s) v' \\\\ u' \\\\ v' \\\\ \\end{array}\\right]\n",
    "$$\n",
    "\n",
    "1. 高さからおおよその$s'$を求める．\n",
    "1. $s'$からおおよその$y', z'$を求める．\n",
    "1. $y', z'$からおおよその$u'', v''$を求める．\n",
    "1. $x$成分について$s$の2次関数を解きたいが，$s$では2次の項の値が小さすぎ誤差が大きくなることが予想されるため，$s = 1/t$の関係を持つ$t$について解く．\n",
    "\n",
    "$$\n",
    "\\begin{align}\n",
    "x_0 &= (l_0 + \\Delta x) s -(a_1 s^2+a_2 s) u'' + (a_3 s^2+a_4 s) v'' \\\\\\\\\n",
    "0   &= (a_1 u'' - a_3 v'') s^2 + \\left(a_2 u'' - a_4 v'' - (l_0 + \\Delta x)\\right) s + x_0 \\\\\\\\\n",
    "    &= (a_1 u'' - a_3 v'') \\frac{1}{t^2} + \\left(a_2 u'' - a_4 v'' - (l_0 + \\Delta x) \\right) \\frac{1}{t} + x_0 \\\\\\\\\n",
    "    &= x_0 t^2  + \\left(a_2 u'' - a_4 v'' - (l_0 + \\Delta x) \\right) t + (a_1 u'' - a_3 v'') \\\\\\\\\n",
    "t   &= \\frac{-b\\pm\\sqrt{b^2-4ac}}{2a} \\\\\\\\\n",
    "\\end{align} \\\\\\\\\n",
    "\\left(a = x_0, b = a_2 u'' - a_4 v'' - (l_0 + \\Delta x) , c = a_1 u'' - a_3 v''\\right) \\\\\\\\\n",
    "$$\n",
    "\n",
    "$b<0$であり，$c=0$を代入したときに，$t=0$では明らかにおかしいため，±の符号は$+$である．よって，\n",
    "\n",
    "$$\n",
    "s = \\frac{2a}{\\sqrt{b^2-4ac}-b}\n",
    "$$\n",
    "\n"
   ]
  },
  {
   "cell_type": "code",
   "execution_count": 4,
   "metadata": {},
   "outputs": [],
   "source": [
    "s_true = 0.9\n",
    "y_true = 0.2\n",
    "z_true = 0.3\n",
    "\n",
    "l0_dx0, dx0, dq0 = Beam_Deformation(x0, q0, x1, q1, l0)\n",
    "ab_inv0, cd_inv0 = Beam_Matrix(l0_dx0)\n",
    "ab0, cd0 = Beam_Coefficient(dx0, dq0, ab_inv0, cd_inv0)\n",
    "xs_true, qs_true = Beam_Displacement(x0, q0, s_true, ab0, cd0, l0_dx0, dq0)\n",
    "p_true = xs_true + quaternion.rotate_vectors(qs_true, np.array([0, y_true, z_true]))\n"
   ]
  },
  {
   "cell_type": "code",
   "execution_count": 5,
   "metadata": {},
   "outputs": [
    {
     "data": {
      "text/plain": [
       "0.8999941231094274"
      ]
     },
     "execution_count": 5,
     "metadata": {},
     "output_type": "execute_result"
    }
   ],
   "source": [
    "uv_ = quaternion.rotate_vectors(q0.inverse(), p_true - x0)\n",
    "s_  = uv_[0] / l0_dx0\n",
    "y_  = l0_dx0 * ( ab0[0] / 3 * s_**3 + ab0[1] / 2 * s_**2)\n",
    "z_  = l0_dx0 * (-cd0[0] / 3 * s_**3 - cd0[1] / 2 * s_**2)\n",
    "u__ = uv_[1] - y_\n",
    "v__ = uv_[2] - z_\n",
    "a_  = uv_[0]\n",
    "b_  = ab0[1] * u__ - cd0[1] * v__ - l0_dx0\n",
    "c_  = ab0[0] * u__ - cd0[0] * v__\n",
    "s__ = 2 * a_ / (np.sqrt(b_*b_ - 4*a_*c_) - b_)\n",
    "\n",
    "s__\n"
   ]
  },
  {
   "cell_type": "code",
   "execution_count": 6,
   "metadata": {},
   "outputs": [
    {
     "name": "stdout",
     "output_type": "stream",
     "text": [
      "-0.010455733772769427\n"
     ]
    }
   ],
   "source": [
    "dq_true = q0.inverse() * qs_true * 2\n",
    "print(dq_true.x)\n"
   ]
  },
  {
   "cell_type": "code",
   "execution_count": 7,
   "metadata": {},
   "outputs": [
    {
     "data": {
      "text/plain": [
       "-0.010455760183391198"
      ]
     },
     "execution_count": 7,
     "metadata": {},
     "output_type": "execute_result"
    }
   ],
   "source": [
    "((y_true - u__)*v__ - (z_true - v__)*u__) / 0.13\n"
   ]
  },
  {
   "cell_type": "markdown",
   "metadata": {},
   "source": [
    "# 曲がった梁に沿う螺旋\n",
    "\n",
    "![sample_spiral](sample_spiral.svg)\n",
    "\n",
    "$$\n",
    "\\begin{align}\n",
    "\\vec{p}(s) &= \\vec{x}_0 + q_0 \\otimes \\left( \\left[ \\begin{array}{cccc} (l_0 + \\Delta x)s \\\\ (l_0 + \\Delta x) (\\frac{1}{3}a_1 s^3 + \\frac{1}{2}a_2s^2) \\\\ -(l_0 + \\Delta x) (\\frac{1}{3}a_3 s^3 + \\frac{1}{2}a_4 s^2) \\\\ \\end{array}\\right] + \\Delta q(s) \\otimes \\left[ \\begin{array}{cccc} 0 \\\\ \\cos{\\alpha} \\\\ \\sin{\\alpha} \\\\ \\end{array}\\right]\\right) \\\\\\\\\n",
    "\\end{align}\n",
    "$$\n",
    "\n",
    "$$\n",
    "\\def \\lnew {l_{\\rm{new}}}\n",
    "\\def \\rnew {r_{\\rm{new}}}\n",
    "\\left( \\alpha = \\frac{2 \\pi l_0}{L_0}s + \\Delta \\alpha \\right) \\\\\\\\\n",
    "q_0 \\otimes \\Delta q(s) \\otimes \\left[ \\begin{array}{cccc} \\lnew&0&\\rnew\\\\-\\rnew\\sin{\\alpha}&-\\cos{\\alpha}&\\lnew\\sin{\\alpha}\\\\ \\rnew\\cos{\\alpha}&-\\sin{\\alpha}&-\\lnew\\cos{\\alpha} \\\\ \\end{array}\\right] \\left[ \\begin{array}{cccc} t \\\\ n \\\\ b \\\\ \\end{array}\\right] = \\left[ \\begin{array}{cccc} x \\\\ y \\\\ z \\\\ \\end{array}\\right]\n",
    "$$\n",
    "\n"
   ]
  },
  {
   "cell_type": "code",
   "execution_count": 8,
   "metadata": {},
   "outputs": [],
   "source": [
    "L0 = 0.5\n",
    "r0 = 0.4\n",
    "n0 = 100\n",
    "da = 0.7\n",
    "p_array = np.zeros([n0, 3])\n",
    "a_array = np.zeros([n0, 3])\n",
    "s_array = np.linspace(0.999, 1, n0)\n",
    "\n",
    "for i0 in range(n0):\n",
    "    xs, qs = Beam_Displacement_All(x0, q0, x1, q1, l0, s_array[i0])\n",
    "    alps   = da + (2 * np.pi * l0 / L0 * s_array[i0])\n",
    "    ys, zs = r0 * np.cos(alps), r0 * np.sin(alps)\n",
    "    p_array[i0] = xs + quaternion.rotate_vectors(qs, np.array([0, ys, zs]))\n",
    "    a_array[i0] = xs + quaternion.rotate_vectors(qs, np.array([0,  0,  0]))\n",
    "    "
   ]
  },
  {
   "cell_type": "markdown",
   "metadata": {},
   "source": [
    "$$\n",
    "\\begin{align}\n",
    "p_x(s)                              &=(l_0+\\Delta x)s - ( a_1 s^2 + a_2 s) r_y + ( a_3 s^2 + a_4 s) r_z \\\\\\\\\n",
    "\\frac{\\rm{d}}{\\rm{d}s} p_x(s)       &=(l_0+\\Delta x)  - (2a_1 s   + a_2  ) r_y + (2a_3 s   + a_4  ) r_z \\\\\\\\\n",
    "r_0\\phi_x(s)                        &= r_0 \\left( \\frac{2 \\pi l_0}{L_0} + \\Delta \\theta_x \\right) s \\\\\\\\\n",
    "\\frac{\\rm{d}}{\\rm{d}s} r_0\\phi_x(s) &= r_0 \\left( \\frac{2 \\pi l_0}{L_0} + \\Delta \\theta_x \\right) \\\\\\\\\n",
    "\\angle \\alpha(s)                    &= \\tan ^{ - 1} \\frac{\\frac{\\rm{d}}{\\rm{d}s} p_x(s)}{\\frac{\\rm{d}}{\\rm{d}s} r_0\\phi_x(s)} \\\\\\\\\n",
    "\\end{align}\n",
    "$$"
   ]
  },
  {
   "cell_type": "code",
   "execution_count": 9,
   "metadata": {},
   "outputs": [],
   "source": [
    "p49, p50, p51 = quaternion.rotate_vectors(q0.inverse(), p_array[49:52] - x0)\n",
    "a49, a50, a51 = quaternion.rotate_vectors(q0.inverse(), a_array[49:52] - x0)\n",
    "\n",
    "p_dirc = p51 - p49\n",
    "a_dirc = a51 - a49\n",
    "\n",
    "ds = s_array[51] - s_array[49]\n"
   ]
  },
  {
   "cell_type": "code",
   "execution_count": 10,
   "metadata": {},
   "outputs": [
    {
     "data": {
      "text/plain": [
       "0.19486444199907937"
      ]
     },
     "execution_count": 10,
     "metadata": {},
     "output_type": "execute_result"
    }
   ],
   "source": [
    "from numpy.linalg import norm\n",
    "\n",
    "cos_alp_ = np.dot(p_dirc, a_dirc) / norm(p_dirc) / norm(a_dirc)\n",
    "cos_alp_\n"
   ]
  },
  {
   "cell_type": "code",
   "execution_count": 11,
   "metadata": {},
   "outputs": [
    {
     "data": {
      "text/plain": [
       "(0.3106915627586848, 0.25193402475760635, 0.9995050505050505)"
      ]
     },
     "execution_count": 11,
     "metadata": {},
     "output_type": "execute_result"
    }
   ],
   "source": [
    "alps     = da + 2 * np.pi * l0 * s_array[50] / L0\n",
    "y50, z50, s50 = r0 * np.cos(alps), r0 * np.sin(alps), s_array[50]\n",
    "\n",
    "y50, z50, s50\n"
   ]
  },
  {
   "cell_type": "code",
   "execution_count": 12,
   "metadata": {},
   "outputs": [],
   "source": [
    "dpds = p_dirc / ds\n",
    "dpxds = np.dot(dpds, a_dirc) / norm(a_dirc)\n",
    "dphids = norm(dpds - dpxds * a_dirc / norm(a_dirc))\n"
   ]
  },
  {
   "cell_type": "code",
   "execution_count": 13,
   "metadata": {},
   "outputs": [
    {
     "data": {
      "text/plain": [
       "-3.918159577308461"
      ]
     },
     "execution_count": 13,
     "metadata": {},
     "output_type": "execute_result"
    }
   ],
   "source": [
    "np.log10(np.abs(dpxds - (l0_dx0 - (2*ab0[0]*s50 + ab0[1]) * y50 + (2*cd0[0]*s50 + cd0[1]) * z50)))"
   ]
  },
  {
   "cell_type": "code",
   "execution_count": 14,
   "metadata": {},
   "outputs": [
    {
     "data": {
      "text/plain": [
       "-2.2357371225942755"
      ]
     },
     "execution_count": 14,
     "metadata": {},
     "output_type": "execute_result"
    }
   ],
   "source": [
    "np.log10(np.abs(dpxds - l0_dx0))"
   ]
  },
  {
   "cell_type": "code",
   "execution_count": 15,
   "metadata": {},
   "outputs": [
    {
     "data": {
      "text/plain": [
       "-4.358940857376818"
      ]
     },
     "execution_count": 15,
     "metadata": {},
     "output_type": "execute_result"
    }
   ],
   "source": [
    "l0_dx0, dx0, dq0 = Beam_Deformation(x0, q0, x1, q1, l0)\n",
    "np.log10(np.abs(dphids - r0 * (2 * np.pi * l0 / L0 + dq0.x)))\n"
   ]
  },
  {
   "cell_type": "code",
   "execution_count": 16,
   "metadata": {},
   "outputs": [
    {
     "data": {
      "text/plain": [
       "-2.336926122960951"
      ]
     },
     "execution_count": 16,
     "metadata": {},
     "output_type": "execute_result"
    }
   ],
   "source": [
    "np.log10(np.abs(dphids - r0 * 2 * np.pi * l0 / L0))"
   ]
  },
  {
   "cell_type": "code",
   "execution_count": 23,
   "metadata": {},
   "outputs": [],
   "source": [
    "y_new = r0 * np.cos(da + 2 * np.pi * l0 * s_array / L0)\n",
    "z_new = r0 * np.sin(da + 2 * np.pi * l0 * s_array / L0)\n",
    "l_new = l0_dx0 - (2*ab0[0]*s_array + ab0[1]) * y_new + (2*cd0[0]*s_array + cd0[1]) * z_new\n",
    "r_new = r0 * (2 * np.pi * l0 / L0 + dq0.x)\n",
    "unit_new_50 = norm(np.array([l_new[50], r_new]))\n",
    "\n",
    "t_new_50 = np.array([l_new[50],  0,     r_new]) / unit_new_50\n",
    "n_new_50 = np.array([        0, -1,         0])\n",
    "b_new_50 = np.array([    r_new,  0,-l_new[50]]) / unit_new_50\n"
   ]
  },
  {
   "cell_type": "code",
   "execution_count": null,
   "metadata": {},
   "outputs": [],
   "source": []
  },
  {
   "cell_type": "code",
   "execution_count": null,
   "metadata": {},
   "outputs": [],
   "source": []
  },
  {
   "cell_type": "code",
   "execution_count": null,
   "metadata": {},
   "outputs": [],
   "source": []
  },
  {
   "cell_type": "code",
   "execution_count": null,
   "metadata": {},
   "outputs": [],
   "source": []
  },
  {
   "cell_type": "code",
   "execution_count": 17,
   "metadata": {},
   "outputs": [],
   "source": [
    "for i0 in range(n0):\n",
    "    xs, qs = Beam_Displacement_All(x0, q0, x1, q1, l0, s_array[i0])\n",
    "    alps   = da + (2 * np.pi * l0 / L0 * s_array[i0])\n",
    "    ys, zs = r0 * np.cos(alps), r0 * np.sin(alps)\n",
    "    p_array[i0] = xs + quaternion.rotate_vectors(qs, np.array([0, 0.3, 0.4]))\n",
    "    a_array[i0] = xs + quaternion.rotate_vectors(qs, np.array([0,  0,  0]))\n",
    "    \n",
    "for i0 in range(n0-2):\n",
    "    p_dirc = p_array[i0+2] - p_array[i0]\n",
    "    a_dirc = a_array[i0+2] - a_array[i0]\n",
    "    dpds  = p_dirc / ds\n",
    "    dpxds = np.dot(dpds, a_dirc) / norm(a_dirc)\n",
    "    #print((dpxds - (l0_dx0 - (2*ab0[0]*s_array[i0+1] + ab0[1]) * 0.3 + (2*cd0[0]*s_array[i0+1] + cd0[1]) * 0.4)) /(dpxds-  l0))\n",
    "    \n",
    "    "
   ]
  },
  {
   "cell_type": "code",
   "execution_count": 18,
   "metadata": {},
   "outputs": [
    {
     "data": {
      "image/png": "[encoded data removed]",
      "text/plain": [
       "<Figure size 432x288 with 2 Axes>"
      ]
     },
     "metadata": {
      "needs_background": "light"
     },
     "output_type": "display_data"
    }
   ],
   "source": [
    "from matplotlib import pyplot as plt\n",
    "\n",
    "fig, axs = plt.subplots(1,2)\n",
    "axs[0].plot(a_array[:,0], a_array[:,1], p_array[:,0], p_array[:,1])\n",
    "axs[0].set_aspect('equal')\n",
    "\n",
    "axs[1].plot(a_array[:,0], a_array[:,2], p_array[:,0], p_array[:,2])\n",
    "axs[1].set_aspect('equal')\n",
    "\n"
   ]
  }
 ],
 "metadata": {
  "kernelspec": {
   "display_name": "Python 3",
   "language": "python",
   "name": "python3"
  },
  "language_info": {
   "codemirror_mode": {
    "name": "ipython",
    "version": 3
   },
   "file_extension": ".py",
   "mimetype": "text/x-python",
   "name": "python",
   "nbconvert_exporter": "python",
   "pygments_lexer": "ipython3",
   "version": "3.8.8"
  }
 },
 "nbformat": 4,
 "nbformat_minor": 4
}

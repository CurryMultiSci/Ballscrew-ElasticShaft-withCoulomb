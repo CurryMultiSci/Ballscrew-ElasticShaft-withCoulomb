{
 "cells": [
  {
   "cell_type": "markdown",
   "metadata": {},
   "source": [
    "## 1. Discretize of beam elements\n",
    "Improving Timoshenko's Model Represented by Euler Angles.\n",
    "\n",
    "\n",
    "### 1.1. Representation using quaternions\n",
    "Since NSK uses quaternions to handle posture, we will model the quaternion representation in this program as well. Although there is an idea to convert Euler angles and quaternions for each calculation, we will use the direct quaternion method this time because it seems to be computationally expensive and there are already previous studies.\n",
    "\n",
    "#### 1.1.1. Why quaternions?\n",
    "Light computational cost. Gimbal lock does not occur.\n",
    "\n",
    "|                 | Parameters | Memory | Handling | Notes                                                                   |\n",
    "|:---------------:|:----------:|:------:|:--------:|:-----------------------------------------------------------------------:|\n",
    "| Quaternion      | 4          | 0.5    | 1        | Has a good balance of abilities                                         |\n",
    "| Eular           | 3          | 1      | 0        | The gradient per unit attitude change differs depending on the attitude |\n",
    "| Rotation Matrix | 9          | 0      | 0.5      |                                                                         |"
   ]
  },
  {
   "cell_type": "code",
   "execution_count": 2,
   "metadata": {},
   "outputs": [],
   "source": [
    "import numpy as np  # The next command is required: \"pip install -U numpy\"\n",
    "import quaternion   # The next command is required: \"pip install numpy-quaternion\"\n"
   ]
  },
  {
   "cell_type": "markdown",
   "metadata": {},
   "source": [
    "#### Simple Example\n",
    "\n",
    "Make $q_0$ which means $60^o(= \\frac{\\pi}{3})$ degree rotation around the $z(=\\begin{bmatrix} 0\\\\0\\\\1\\end{bmatrix})$ axis.\n"
   ]
  },
  {
   "cell_type": "code",
   "execution_count": 21,
   "metadata": {},
   "outputs": [],
   "source": [
    "q0 = quaternion.from_rotation_vector(np.array([0, 0, 1]) * np.pi / 3)\n"
   ]
  },
  {
   "cell_type": "markdown",
   "metadata": {},
   "source": [
    "$$\n",
    "q_0 \\otimes \\begin{bmatrix} 1\\\\0\\\\0\\end{bmatrix}=\\begin{bmatrix} \\frac{1}{2}\\\\\\frac{\\sqrt{3}}{2}\\\\0\\end{bmatrix}, \n",
    "q_0 \\otimes \\begin{bmatrix} 0\\\\1\\\\0\\end{bmatrix}=\\begin{bmatrix} - \\frac{\\sqrt{3}}{2}\\\\ \\frac{1}{2}\\\\0\\end{bmatrix}, \n",
    "q_0 \\otimes \\begin{bmatrix} 0\\\\0\\\\1\\end{bmatrix}=\\begin{bmatrix} 0\\\\  0\\\\ 1 \\end{bmatrix}\n",
    "$$\n"
   ]
  },
  {
   "cell_type": "code",
   "execution_count": 22,
   "metadata": {},
   "outputs": [
    {
     "name": "stdout",
     "output_type": "stream",
     "text": [
      "[[ 0.         0.5       -0.8660254  0.       ]\n",
      " [ 0.         0.8660254  0.5        0.       ]\n",
      " [ 0.         0.         0.         1.       ]]\n"
     ]
    }
   ],
   "source": [
    "u1 = np.array([[0, 0, 0], [1, 0, 0], [0, 1, 0], [0, 0, 1]]).T\n",
    "\n",
    "print(quaternion.as_rotation_matrix(q0) @ u1)"
   ]
  },
  {
   "cell_type": "markdown",
   "metadata": {},
   "source": [
    "#### 1.1.2. Previous research\n",
    "\n",
    "Two types of modeling of beams by quaternions have been presented by the same laboratory.\n",
    "\n",
    "|Kinematically Exact Beam Finite Elements Based on Quaternion Algebra (2014)|A consistent strain-based beam element with quaternion representation of rotations (2020)|\n",
    "|:---:|:---:|\n",
    "|![1‗2014](1_2014.png)|![1_2020](1_2020.png)|\n",
    "|Eva Zupan, Miran Saje, **Dejan Zupan**|Damjan Loli, **Dejan Zupan**, Miha Brojan|\n",
    "|University of Ljubljana|University of Ljubljana|\n",
    "|Simple|Complex|\n",
    "|displacement-based|strain-based|\n",
    "|12 DOFs per element|26 DOFs per element|\n",
    "|**to small shear deformations**|to larger shear deformations|\n",
    "\n",
    "In order to deal with the deformation of the ballscrew this time, we do not need to consider \"larger shear deformations\", so I will deal with the **2014 model**.\n"
   ]
  },
  {
   "cell_type": "code",
   "execution_count": null,
   "metadata": {},
   "outputs": [],
   "source": []
  }
 ],
 "metadata": {
  "kernelspec": {
   "display_name": "Python 3",
   "language": "python",
   "name": "python3"
  },
  "language_info": {
   "codemirror_mode": {
    "name": "ipython",
    "version": 3
   },
   "file_extension": ".py",
   "mimetype": "text/x-python",
   "name": "python",
   "nbconvert_exporter": "python",
   "pygments_lexer": "ipython3",
   "version": "3.8.5"
  }
 },
 "nbformat": 4,
 "nbformat_minor": 4
}

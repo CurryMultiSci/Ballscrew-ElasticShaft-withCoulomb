{
 "cells": [
  {
   "cell_type": "code",
   "execution_count": 1,
   "metadata": {},
   "outputs": [],
   "source": [
    "%config InlineBackend.figure_format = \"svg\"\n"
   ]
  },
  {
   "cell_type": "code",
   "execution_count": 2,
   "metadata": {},
   "outputs": [],
   "source": [
    "import numpy as np\n",
    "import matplotlib.pyplot as plt\n",
    "from matplotlib import cm\n",
    "from matplotlib.collections import LineCollection\n"
   ]
  },
  {
   "cell_type": "code",
   "execution_count": 3,
   "metadata": {},
   "outputs": [],
   "source": [
    "import sys\n",
    "import pathlib\n",
    "import os\n",
    "sys.path.append(str(pathlib.Path(os.path.abspath('')).resolve().parent.parent))\n",
    "from IPython.display import display, HTML\n",
    "\n",
    "from _9_Mechanics.Spiral import Spiral\n",
    "from _9_Mechanics.Tribology import Tribology\n",
    "\n",
    "TB = Tribology()\n"
   ]
  },
  {
   "cell_type": "code",
   "execution_count": 4,
   "metadata": {},
   "outputs": [],
   "source": [
    "R = 6.35 / 2\n",
    "Rg = R * 1.08\n",
    "dR = R * 0.08 / np.sqrt(2)\n",
    "PCR = 20.875\n",
    "\n",
    "SP1 = Spiral(alp=np.deg2rad(1e-1), l=10.0, r=PCR, eta=np.array([[-dR, -dR],[-dR, dR]]), R=np.array([Rg, Rg]))\n",
    "SP2 = Spiral(alp=np.deg2rad(-1e-1), l=10.0, r=PCR, eta=np.array([[dR, dR],[dR, -dR]]), R=np.array([Rg, Rg]))\n",
    "\n",
    "x_ball = np.array([0.0, PCR, 0.0])\n",
    "rho = 7.9e-3 # [g/mm^3]\n",
    "Ball_m = 4/3 * np.pi * R**3 * rho # [g]\n",
    "Ball_r_inv = 1.0 / R\n",
    "v_ball = np.zeros(3)\n",
    "w_ball = np.zeros(3)\n",
    "zeta = 0.3\n",
    "xvw_ball = np.concatenate([x_ball, v_ball, w_ball])\n",
    "E_Reduced = 231e3 # [N/mm^2]\n"
   ]
  },
  {
   "cell_type": "code",
   "execution_count": 12,
   "metadata": {},
   "outputs": [
    {
     "name": "stdout",
     "output_type": "stream",
     "text": [
      "0\n",
      "1\n"
     ]
    }
   ],
   "source": [
    "p0 = np.array([4,0,0])\n",
    "x0 = np.array([2,0,0])\n",
    "v0 = np.array([0,0,100])\n",
    "w0 = np.array([0,0,5])\n",
    "\n",
    "TB.surface_velocity(x0, p0, v0, w0)\n",
    "\n",
    "for i in range(2):\n",
    "    print(i)\n"
   ]
  },
  {
   "cell_type": "code",
   "execution_count": 6,
   "metadata": {},
   "outputs": [],
   "source": [
    "def vaT_ball(xvw_ball, t, R, SP1, SP2, Ball_r_inv, zeta, E_Reduced):\n",
    "    x_ball = xvw_ball[0:3]\n",
    "    v_ball = xvw_ball[3:6]\n",
    "    w_ball = xvw_ball[6:9]\n",
    "    \n",
    "    cos_sin1, dx1, exyz1 = SP1.get_contact(x_ball, R, 0)\n",
    "    SP1_r_inv = SP1.get_rho(cos_sin1[0], 0)\n",
    "    R_Reduced1 = 1.0 / (Ball_r_inv + SP1_r_inv)\n",
    "    k1, a1, b1 = TB.BrewHamrock(R_Reduced1[0], R_Reduced1[1], dx1, E_Reduced)\n",
    "    v1 = v_ball.dot(exyz1)\n",
    "    F1 = - TB.Tsuji(k1, zeta, Ball_m, v1, dx1) * exyz1\n",
    "\n",
    "    cos_sin2, dx2, exyz2 = SP2.get_contact(x_ball, R, 0)\n",
    "    SP2_r_inv = SP2.get_rho(cos_sin2[0], 0)\n",
    "    R_Reduced2 = 1.0 / (Ball_r_inv + SP2_r_inv)\n",
    "    k2, a2, b2 = TB.BrewHamrock(R_Reduced2[0], R_Reduced2[1], dx2, E_Reduced)\n",
    "    v2 = v_ball.dot(exyz2)\n",
    "    F2 = - TB.Tsuji(k2, zeta, Ball_m, v2, dx2) * exyz2\n",
    "\n",
    "    a_ball = (F1 + F2) / Ball_m\n",
    "    \n",
    "    return np.concatenate([v_ball, a_ball])\n"
   ]
  },
  {
   "cell_type": "code",
   "execution_count": 7,
   "metadata": {},
   "outputs": [
    {
     "ename": "RuntimeError",
     "evalue": "The size of the array returned by func (6) does not match the size of y0 (9).",
     "output_type": "error",
     "traceback": [
      "\u001b[0;31m---------------------------------------------------------------------------\u001b[0m",
      "\u001b[0;31mRuntimeError\u001b[0m                              Traceback (most recent call last)",
      "\u001b[0;32m<ipython-input-7-e180dd7bcb4f>\u001b[0m in \u001b[0;36m<module>\u001b[0;34m\u001b[0m\n\u001b[1;32m      1\u001b[0m \u001b[0;32mfrom\u001b[0m \u001b[0mscipy\u001b[0m\u001b[0;34m.\u001b[0m\u001b[0mintegrate\u001b[0m \u001b[0;32mimport\u001b[0m \u001b[0modeint\u001b[0m\u001b[0;34m\u001b[0m\u001b[0;34m\u001b[0m\u001b[0m\n\u001b[1;32m      2\u001b[0m \u001b[0mt\u001b[0m \u001b[0;34m=\u001b[0m \u001b[0mnp\u001b[0m\u001b[0;34m.\u001b[0m\u001b[0mlinspace\u001b[0m\u001b[0;34m(\u001b[0m\u001b[0;36m0\u001b[0m\u001b[0;34m,\u001b[0m \u001b[0;36m0.2\u001b[0m\u001b[0;34m,\u001b[0m \u001b[0;36m1000\u001b[0m\u001b[0;34m)\u001b[0m\u001b[0;34m\u001b[0m\u001b[0;34m\u001b[0m\u001b[0m\n\u001b[0;32m----> 3\u001b[0;31m \u001b[0msol\u001b[0m \u001b[0;34m=\u001b[0m \u001b[0modeint\u001b[0m\u001b[0;34m(\u001b[0m\u001b[0mvaT_ball\u001b[0m\u001b[0;34m,\u001b[0m \u001b[0mxvw_ball\u001b[0m\u001b[0;34m,\u001b[0m \u001b[0mt\u001b[0m\u001b[0;34m,\u001b[0m \u001b[0margs\u001b[0m\u001b[0;34m=\u001b[0m\u001b[0;34m(\u001b[0m\u001b[0mR\u001b[0m\u001b[0;34m,\u001b[0m \u001b[0mSP1\u001b[0m\u001b[0;34m,\u001b[0m \u001b[0mSP2\u001b[0m\u001b[0;34m,\u001b[0m \u001b[0mBall_r_inv\u001b[0m\u001b[0;34m,\u001b[0m \u001b[0mzeta\u001b[0m\u001b[0;34m,\u001b[0m \u001b[0mE_Reduced\u001b[0m\u001b[0;34m)\u001b[0m\u001b[0;34m)\u001b[0m\u001b[0;34m\u001b[0m\u001b[0;34m\u001b[0m\u001b[0m\n\u001b[0m\u001b[1;32m      4\u001b[0m \u001b[0;34m\u001b[0m\u001b[0m\n\u001b[1;32m      5\u001b[0m \u001b[0mfig\u001b[0m\u001b[0;34m,\u001b[0m \u001b[0max\u001b[0m \u001b[0;34m=\u001b[0m \u001b[0mplt\u001b[0m\u001b[0;34m.\u001b[0m\u001b[0msubplots\u001b[0m\u001b[0;34m(\u001b[0m\u001b[0;34m)\u001b[0m\u001b[0;34m\u001b[0m\u001b[0;34m\u001b[0m\u001b[0m\n",
      "\u001b[0;32m~/opt/anaconda3/lib/python3.8/site-packages/scipy/integrate/odepack.py\u001b[0m in \u001b[0;36modeint\u001b[0;34m(func, y0, t, args, Dfun, col_deriv, full_output, ml, mu, rtol, atol, tcrit, h0, hmax, hmin, ixpr, mxstep, mxhnil, mxordn, mxords, printmessg, tfirst)\u001b[0m\n\u001b[1;32m    239\u001b[0m     \u001b[0mt\u001b[0m \u001b[0;34m=\u001b[0m \u001b[0mcopy\u001b[0m\u001b[0;34m(\u001b[0m\u001b[0mt\u001b[0m\u001b[0;34m)\u001b[0m\u001b[0;34m\u001b[0m\u001b[0;34m\u001b[0m\u001b[0m\n\u001b[1;32m    240\u001b[0m     \u001b[0my0\u001b[0m \u001b[0;34m=\u001b[0m \u001b[0mcopy\u001b[0m\u001b[0;34m(\u001b[0m\u001b[0my0\u001b[0m\u001b[0;34m)\u001b[0m\u001b[0;34m\u001b[0m\u001b[0;34m\u001b[0m\u001b[0m\n\u001b[0;32m--> 241\u001b[0;31m     output = _odepack.odeint(func, y0, t, args, Dfun, col_deriv, ml, mu,\n\u001b[0m\u001b[1;32m    242\u001b[0m                              \u001b[0mfull_output\u001b[0m\u001b[0;34m,\u001b[0m \u001b[0mrtol\u001b[0m\u001b[0;34m,\u001b[0m \u001b[0matol\u001b[0m\u001b[0;34m,\u001b[0m \u001b[0mtcrit\u001b[0m\u001b[0;34m,\u001b[0m \u001b[0mh0\u001b[0m\u001b[0;34m,\u001b[0m \u001b[0mhmax\u001b[0m\u001b[0;34m,\u001b[0m \u001b[0mhmin\u001b[0m\u001b[0;34m,\u001b[0m\u001b[0;34m\u001b[0m\u001b[0;34m\u001b[0m\u001b[0m\n\u001b[1;32m    243\u001b[0m                              \u001b[0mixpr\u001b[0m\u001b[0;34m,\u001b[0m \u001b[0mmxstep\u001b[0m\u001b[0;34m,\u001b[0m \u001b[0mmxhnil\u001b[0m\u001b[0;34m,\u001b[0m \u001b[0mmxordn\u001b[0m\u001b[0;34m,\u001b[0m \u001b[0mmxords\u001b[0m\u001b[0;34m,\u001b[0m\u001b[0;34m\u001b[0m\u001b[0;34m\u001b[0m\u001b[0m\n",
      "\u001b[0;31mRuntimeError\u001b[0m: The size of the array returned by func (6) does not match the size of y0 (9)."
     ]
    }
   ],
   "source": [
    "from scipy.integrate import odeint\n",
    "t = np.linspace(0, 0.2, 1000)\n",
    "sol = odeint(vaT_ball, xvw_ball, t, args=(R, SP1, SP2, Ball_r_inv, zeta, E_Reduced))\n",
    "\n",
    "fig, ax = plt.subplots()\n",
    "ax.plot(t, sol[:,1])\n",
    "\n",
    "plt.xlabel('Time: T [s]')\n",
    "plt.ylabel('y [mm]')\n"
   ]
  },
  {
   "cell_type": "code",
   "execution_count": null,
   "metadata": {},
   "outputs": [],
   "source": []
  }
 ],
 "metadata": {
  "kernelspec": {
   "display_name": "Python 3",
   "language": "python",
   "name": "python3"
  },
  "language_info": {
   "codemirror_mode": {
    "name": "ipython",
    "version": 3
   },
   "file_extension": ".py",
   "mimetype": "text/x-python",
   "name": "python",
   "nbconvert_exporter": "python",
   "pygments_lexer": "ipython3",
   "version": "3.8.8"
  }
 },
 "nbformat": 4,
 "nbformat_minor": 4
}

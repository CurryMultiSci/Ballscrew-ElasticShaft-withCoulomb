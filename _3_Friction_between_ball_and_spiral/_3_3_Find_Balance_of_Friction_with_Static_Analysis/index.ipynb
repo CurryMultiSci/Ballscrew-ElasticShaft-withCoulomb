{
 "cells": [
  {
   "cell_type": "markdown",
   "metadata": {},
   "source": [
    "# 3.3. Find Balance of Friction with Static Analysis\n",
    "\n"
   ]
  },
  {
   "cell_type": "code",
   "execution_count": 1,
   "metadata": {
    "slideshow": {
     "slide_type": "skip"
    }
   },
   "outputs": [],
   "source": [
    "%config InlineBackend.figure_format = \"svg\"\n",
    "import numpy as np\n",
    "from matplotlib import pyplot as plt\n",
    "import sys\n",
    "import pathlib\n",
    "import os\n",
    "sys.path.append(str(pathlib.Path(os.path.abspath('')).resolve().parent.parent))\n",
    "\n",
    "from _9_Mechanics.Spiral import Spiral\n",
    "from _9_Mechanics.Tribology import Tribology\n",
    "\n",
    "TB = Tribology()\n"
   ]
  },
  {
   "cell_type": "markdown",
   "metadata": {},
   "source": [
    "## 3.3.1. \n",
    "\n",
    "\n",
    "\n",
    "\n"
   ]
  },
  {
   "cell_type": "code",
   "execution_count": 2,
   "metadata": {},
   "outputs": [],
   "source": [
    "def get_mesh(n_r, n_t):\n",
    "    OffbyOne = lambda n : (np.arange(n) + 0.5) / n\n",
    "\n",
    "    r = OffbyOne(n_r)\n",
    "    t = OffbyOne(n_t) * 2 * np.pi\n",
    "\n",
    "    r_, t_ = np.meshgrid(r, t)\n",
    "    x_ = r_ * np.cos(t_) * 2.0 # = a \n",
    "    y_ = r_ * np.sin(t_) * 1.0 # = b\n",
    "    F_ = np.sqrt(1 - np.square(r_))\n",
    "\n",
    "    dt = t[1] - t[0]\n",
    "    r_node = np.linspace(0., 1., n_r+1)\n",
    "    Antiderivative = lambda x: -(1-x*x)**1.5 / 2 / np.pi\n",
    "    ratio_dt = (Antiderivative(r_node[1:]) - Antiderivative(r_node[:-1])) * dt\n",
    "\n",
    "    r_, t_ = np.meshgrid(r, t)\n",
    "    ratio, t_ = np.meshgrid(ratio_dt, t)\n",
    "\n",
    "    r_mesh = r_.reshape(-1)\n",
    "    t_mesh = t_.reshape(-1)\n",
    "    ratio_mesh = ratio.reshape(-1)\n",
    "    x_mesh = r_mesh * np.cos(t_mesh)\n",
    "    y_mesh = r_mesh * np.sin(t_mesh)\n",
    "    return r_mesh, t_mesh, ratio_mesh, x_mesh, y_mesh\n"
   ]
  },
  {
   "cell_type": "code",
   "execution_count": 3,
   "metadata": {},
   "outputs": [],
   "source": [
    "def Make_Matrix(a, b):\n",
    "    return a.reshape(-1, 1) @ b.reshape(1, -1)\n",
    "\n",
    "def vFmTI_ball(xvw_ball, t, mode):\n",
    "    \n",
    "    x_ball = xvw_ball[0:3]\n",
    "    v_ball = xvw_ball[3:6]\n",
    "    w_ball = xvw_ball[6:9]\n",
    "    \n",
    "    Zeros = np.zeros(3)\n",
    "    vr = np.linalg.norm(v_ball)\n",
    "    x_square = np.square(x_mesh)\n",
    "    y_square = np.square(y_mesh)\n",
    "    \n",
    "    dx      = np.zeros([2, 2])\n",
    "    k_      = dx.copy()\n",
    "    a_      = dx.copy()\n",
    "    b_      = dx.copy()\n",
    "    v_      = dx.copy()\n",
    "    F_norm  = dx.copy()\n",
    "\n",
    "    cos_sin   = np.zeros([2, 2, 2])\n",
    "    SP_r_inv  = cos_sin.copy()\n",
    "    R_Reduced = cos_sin.copy()\n",
    "    parabola  = cos_sin.copy()\n",
    "    \n",
    "    exyz    = np.zeros([2, 2, 3])\n",
    "    F_      = exyz.copy()\n",
    "    a_dir   = exyz.copy()\n",
    "    peak    = exyz.copy()\n",
    "    \n",
    "    eta   = np.zeros([2, 3])\n",
    "    b_dir = eta.copy()\n",
    "    v_eta = eta.copy()\n",
    "    \n",
    "    xyz2eta = np.zeros([2, 3, 3])\n",
    "    \n",
    "    n_mesh = len(x_mesh)\n",
    "    F_mesh = np.zeros([2, 2, n_mesh])\n",
    "    \n",
    "    p_mesh = np.zeros([2, 2, n_mesh, 3])\n",
    "    SP_v   = p_mesh.copy()\n",
    "    BL_v   = p_mesh.copy()\n",
    "    dv     = p_mesh.copy()\n",
    "    muT    = p_mesh.copy()\n",
    "\n",
    "    v_dir = np.zeros([2, 2, 3, n_mesh])\n",
    "    muF   = v_dir.copy()\n",
    "    \n",
    "    for iSP, SP in enumerate(SP12):\n",
    "        \n",
    "        eta[iSP,:] = SP.to_eta2(x_ball)\n",
    "        xyz2eta[iSP,:,:] = SP.get_xyz2eta(eta[iSP,0])\n",
    "        b_dir[iSP,:] = xyz2eta[iSP,:,:].T @ np.array([1.0, 0.0, 0.0])\n",
    "        v_eta[iSP,:] = xyz2eta[iSP,:,:] @ v_ball\n",
    "\n",
    "        for i in range(2):\n",
    "            cos_sin[iSP,i], dx[iSP,i], exyz[iSP,i,:] = SP.get_contact(x_ball, R, i)\n",
    "            if dx[iSP,i] > 0:\n",
    "                SP_r_inv[iSP,i,:] = SP.get_rho(cos_sin[iSP,i,0], i)\n",
    "                R_Reduced[iSP,i,:] = 1.0 / (Ball_r_inv + SP_r_inv[iSP,i,:])\n",
    "                k_[iSP,i], a_[iSP,i], b_[iSP,i] = TB.BrewHamrock(R_Reduced[iSP,i,0], R_Reduced[iSP,i,1], dx[iSP,i], E_Reduced)\n",
    "                v_[iSP,i] = v_ball.dot(exyz[iSP,i,:])\n",
    "                F_norm[iSP,i] = TB.Tsuji(k_[iSP,i], zeta, Ball_m, v_[iSP,i], dx[iSP,i])\n",
    "                F_[iSP,i,:] = - F_norm[iSP,i] * exyz[iSP,i,:]\n",
    "\n",
    "                a_dir[iSP,i,:] = - np.cross(b_dir[iSP,:], exyz[iSP,i,:])\n",
    "                \n",
    "                peak[iSP,i,:] = x_ball + (R - dx[iSP,i] / 2) * exyz[iSP,i,:]\n",
    "                for j in range(2):\n",
    "                    parabola[iSP,i,j] = TB.Parabola(Ball_r_inv, SP_r_inv[iSP,i,j], dx[iSP,i])\n",
    "                \n",
    "                p_mesh[iSP,i,:,:] = peak[iSP,i,:] + Make_Matrix(a_[iSP,i] * x_mesh, a_dir[iSP,i,:]) + Make_Matrix(b_[iSP,i] * y_mesh, b_dir[iSP,:]) + Make_Matrix(parabola[iSP,i,1] * np.square(a_[iSP,i]) * x_square - parabola[iSP,i,0] * np.square(b_[iSP,i]) * y_square, -exyz[iSP,i,:])\n",
    "                F_mesh[iSP,i,:] = F_norm[iSP,i] * ratio_mesh\n",
    "                \n",
    "                SP_v[iSP,i,:,:]  = TB.surface_velocity(Zeros, p_mesh[iSP,i,:,:], v12[iSP], w12[iSP])\n",
    "                BL_v[iSP,i,:,:]  = TB.surface_velocity(x_ball, p_mesh[iSP,i,:,:], v_ball, w_ball)\n",
    "                dv[iSP,i,:,:]    = SP_v[iSP,i,:,:] - BL_v[iSP,i,:,:]\n",
    "                v_dir[iSP,i,:,:] = dv[iSP,i,:,:].T * (1 / np.sqrt(np.square(dv[iSP,i,:,:]).sum(1)))\n",
    "                muF[iSP,i,:,:] = F_mesh[iSP,i,:] * v_dir[iSP,i,:,:] * mu\n",
    "                muT[iSP,i,:,:] = TB.calc_Torque(x_ball, p_mesh[iSP,i,:,:], muF[iSP,i,:,:].T)\n",
    "                \n",
    "    Fm_ball = (F_.sum(0).sum(0) + muF.sum(0).sum(0).sum(1)) / Ball_m * 1e6\n",
    "    TI_ball = (muT.sum(0).sum(0).sum(0)) / Ball_I * 1e6\n",
    "    \n",
    "    if mode == 1:\n",
    "        return a_, b_, a_dir, b_dir, dv\n",
    "\n",
    "    if mode == 2:\n",
    "        return a_, b_, a_dir, b_dir, muF, F_norm\n",
    "    \n",
    "    if mode == 3:\n",
    "        return v_eta\n",
    "    \n",
    "    if mode == 4:\n",
    "        return p_mesh\n",
    "    \n",
    "    if mode == 5:\n",
    "        return muF, muT\n",
    "\n",
    "    return np.concatenate([v_ball, Fm_ball, TI_ball])\n",
    "\n"
   ]
  },
  {
   "cell_type": "code",
   "execution_count": 4,
   "metadata": {},
   "outputs": [],
   "source": [
    "R = 6.35 / 2\n",
    "Rg = R * 1.08\n",
    "ts = 45\n",
    "tn = 45\n",
    "dRs0 = R * 0.08 * np.cos(np.deg2rad(ts))\n",
    "dRs1 = R * 0.08 * np.sin(np.deg2rad(ts))\n",
    "dRn0 = R * 0.08 * np.cos(np.deg2rad(tn))\n",
    "dRn1 = R * 0.08 * np.sin(np.deg2rad(tn))\n",
    "PCR = 20.875\n",
    "l = 10.0\n",
    "\n",
    "SP1 = Spiral(alp=np.deg2rad(1e-1), l=l, r=PCR, eta=np.array([[-dRs0, -dRs1],[-dRs0, dRs1]]), R=np.array([Rg, Rg]))\n",
    "SP2 = Spiral(alp=np.deg2rad(-1e-1), l=l, r=PCR, eta=np.array([[dRn0, -dRn1],[dRn0, dRn1]]), R=np.array([Rg, Rg]))\n",
    "SP12 = [SP1, SP2]\n",
    "\n",
    "rho = 7.9e-3 # [g/mm^3]\n",
    "Ball_m = 4/3 * np.pi * R**3 * rho # [g]\n",
    "Ball_I = 2/5 * Ball_m * R**2 # [g * mm^2]\n",
    "Ball_r_inv = 1.0 / R\n",
    "zeta = 0.2\n",
    "E_Reduced = 231e3 # [N/mm^2]\n",
    "rpm = 1000\n",
    "w12 = np.array([[rpm * np.pi / 30, 0.0, 0.0], [0.0, 0.0, 0.0]])\n",
    "v12 = w12 * l / 2 / np.pi\n",
    "mu = 0.10\n"
   ]
  },
  {
   "cell_type": "code",
   "execution_count": 5,
   "metadata": {},
   "outputs": [],
   "source": [
    "xvw_ball = np.array([7.49210016e-01,  1.86156815e+01,  9.44929460e+00,\n",
    "                     7.47967885e+01, -4.44060876e+02,  8.74832706e+02,\n",
    "                    -3.34346167e+02, -1.05114502e+02, -2.10343819e+01])\n",
    "\n",
    "vFmTI = np.array([ 7.47967885e+01, -4.44060876e+02,  8.74832706e+02,\n",
    "                  -3.22543376e-01, -4.11165677e+04, -2.08616809e+04,\n",
    "                   8.00162641e+01,  9.20168223e+02, -4.98204570e+03])\n"
   ]
  },
  {
   "cell_type": "code",
   "execution_count": 6,
   "metadata": {},
   "outputs": [],
   "source": [
    "n_r = 36\n",
    "n_t = 12\n",
    "\n",
    "r_mesh, t_mesh, ratio_mesh, x_mesh, y_mesh = get_mesh(n_r, n_t)\n",
    "muF, muT = vFmTI_ball(xvw_ball, 0, 5)\n",
    "\n",
    "x_square = np.square(x_mesh)\n",
    "y_square = np.square(y_mesh)\n",
    "\n",
    "muF_true = muF[0,0].sum(1)\n",
    "muT_true = muT[0,0].sum(0)\n"
   ]
  },
  {
   "cell_type": "code",
   "execution_count": 7,
   "metadata": {},
   "outputs": [
    {
     "data": {
      "text/plain": [
       "array([-41112.12013441, -20868.45624108])"
      ]
     },
     "execution_count": 7,
     "metadata": {},
     "output_type": "execute_result"
    }
   ],
   "source": [
    "r_meas = np.sqrt(np.square(xvw_ball[1:3]).sum())\n",
    "v_meas = np.sqrt(np.square(xvw_ball[4:6]).sum())\n",
    "w_meas = v_meas / r_meas\n",
    "a_theor = np.square(v_meas) / r_meas * -xvw_ball[1:3] / r_meas\n",
    "\n",
    "a_theor"
   ]
  },
  {
   "cell_type": "code",
   "execution_count": 8,
   "metadata": {},
   "outputs": [
    {
     "data": {
      "text/plain": [
       "array([-41116.5677, -20861.6809])"
      ]
     },
     "execution_count": 8,
     "metadata": {},
     "output_type": "execute_result"
    }
   ],
   "source": [
    "vFmTI[4:6]\n"
   ]
  },
  {
   "cell_type": "code",
   "execution_count": 9,
   "metadata": {},
   "outputs": [
    {
     "data": {
      "text/plain": [
       "array([    0.        ,   988.49669503, -4939.78564814])"
      ]
     },
     "execution_count": 9,
     "metadata": {},
     "output_type": "execute_result"
    }
   ],
   "source": [
    "L = Ball_I * xvw_ball[6:9]\n",
    "omega = np.array([w_meas, 0.0, 0.0])\n",
    "\n",
    "np.cross(omega, L) / Ball_I\n"
   ]
  },
  {
   "cell_type": "code",
   "execution_count": 10,
   "metadata": {},
   "outputs": [
    {
     "data": {
      "text/plain": [
       "array([   80.0162641,   920.168223 , -4982.0457   ])"
      ]
     },
     "execution_count": 10,
     "metadata": {},
     "output_type": "execute_result"
    }
   ],
   "source": [
    "vFmTI[6:9]\n"
   ]
  },
  {
   "cell_type": "code",
   "execution_count": 11,
   "metadata": {},
   "outputs": [
    {
     "data": {
      "text/plain": [
       "array([ 0.05751179, -0.29163021])"
      ]
     },
     "execution_count": 11,
     "metadata": {},
     "output_type": "execute_result"
    }
   ],
   "source": [
    "SP2.get_rho(1, 0)\n",
    "\n"
   ]
  },
  {
   "cell_type": "code",
   "execution_count": 12,
   "metadata": {},
   "outputs": [
    {
     "data": {
      "text/plain": [
       "20.875"
      ]
     },
     "execution_count": 12,
     "metadata": {},
     "output_type": "execute_result"
    }
   ],
   "source": [
    "SP2.r\n"
   ]
  },
  {
   "cell_type": "code",
   "execution_count": 14,
   "metadata": {},
   "outputs": [
    {
     "data": {
      "text/plain": [
       "array([46.72633867,  1.61242212, -3.17656904])"
      ]
     },
     "execution_count": 14,
     "metadata": {},
     "output_type": "execute_result"
    }
   ],
   "source": [
    "r_ball = xvw_ball[0:3].copy()\n",
    "r_ball[0] = 0.0\n",
    "v_ball = xvw_ball[3:6]\n",
    "\n",
    "axis = np.cross(r_ball, v_ball)\n",
    "axis = axis / np.linalg.norm(axis)\n",
    "\n",
    "r_aprx = SP2.nd**2 / SP2.r\n",
    "v_aprx = np.linalg.norm(v_ball)\n",
    "\n",
    "w_axis = axis * v_aprx / r_aprx\n",
    "\n",
    "w_axis\n"
   ]
  },
  {
   "cell_type": "code",
   "execution_count": 15,
   "metadata": {},
   "outputs": [
    {
     "data": {
      "text/plain": [
       "array([ -367.81977555,  2044.9333354 , -4372.50866266])"
      ]
     },
     "execution_count": 15,
     "metadata": {},
     "output_type": "execute_result"
    }
   ],
   "source": [
    "np.cross(w_axis, L) / Ball_I\n",
    "\n"
   ]
  },
  {
   "cell_type": "code",
   "execution_count": null,
   "metadata": {},
   "outputs": [],
   "source": []
  },
  {
   "cell_type": "code",
   "execution_count": 16,
   "metadata": {},
   "outputs": [],
   "source": [
    "def Make_Matrix(a, b):\n",
    "    return a.reshape(-1, 1) @ b.reshape(1, -1)\n",
    "\n",
    "def static_spiral(xvw_ball, v_offset, w_offset, mode):\n",
    "    \n",
    "    th = 0.0\n",
    "    eta_ball = np.array([th, xvw_ball[0], xvw_ball[1]])\n",
    "    x_ball   = SP12[1].to_xyz(eta_ball)\n",
    "        \n",
    "    if mode==1:\n",
    "        v_ball = xvw_ball[2:3] + v_offset\n",
    "        w_ball = xvw_ball[3:6] + w_offset\n",
    "    \n",
    "    Zeros = np.zeros(3)\n",
    "    \n",
    "    dx      = np.zeros([2, 2])\n",
    "    k_      = dx.copy()\n",
    "    a_      = dx.copy()\n",
    "    b_      = dx.copy()\n",
    "    v_      = dx.copy()\n",
    "    F_norm  = dx.copy()\n",
    "\n",
    "    cos_sin   = np.zeros([2, 2, 2])\n",
    "    SP_r_inv  = cos_sin.copy()\n",
    "    R_Reduced = cos_sin.copy()\n",
    "    parabola  = cos_sin.copy()\n",
    "    \n",
    "    exyz    = np.zeros([2, 2, 3])\n",
    "    F_      = exyz.copy()\n",
    "    a_dir   = exyz.copy()\n",
    "    peak    = exyz.copy()\n",
    "    muF_    = exyz.copy()\n",
    "    \n",
    "    eta   = np.zeros([2, 3])\n",
    "    b_dir = eta.copy()\n",
    "    v_eta = eta.copy()\n",
    "    \n",
    "    xyz2eta = np.zeros([2, 3, 3])\n",
    "    \n",
    "    n_mesh = len(x_mesh)\n",
    "    F_mesh = np.zeros([2, 2, n_mesh])\n",
    "    \n",
    "    p_mesh = np.zeros([2, 2, n_mesh, 3])\n",
    "    SP_v   = p_mesh.copy()\n",
    "    BL_v   = p_mesh.copy()\n",
    "    dv     = p_mesh.copy()\n",
    "    muT    = p_mesh.copy()\n",
    "\n",
    "    v_dir = np.zeros([2, 2, 3, n_mesh])\n",
    "    muF   = v_dir.copy()\n",
    "    \n",
    "    for iSP, SP in enumerate(SP12):\n",
    "        \n",
    "        eta[iSP,:] = SP.to_eta2(x_ball)\n",
    "        xyz2eta[iSP,:,:] = SP.get_xyz2eta(eta[iSP,0])\n",
    "        b_dir[iSP,:] = xyz2eta[iSP,:,:].T @ np.array([1.0, 0.0, 0.0])\n",
    "        \n",
    "        if mode==1:        \n",
    "            v_eta[iSP,:] = xyz2eta[iSP,:,:] @ v_ball\n",
    "\n",
    "        for i in range(2):\n",
    "            cos_sin[iSP,i], dx[iSP,i], exyz[iSP,i,:] = SP.get_contact(x_ball, R, i)\n",
    "            if dx[iSP,i] > 0:\n",
    "                SP_r_inv[iSP,i,:] = SP.get_rho(cos_sin[iSP,i,0], i)\n",
    "                R_Reduced[iSP,i,:] = 1.0 / (Ball_r_inv + SP_r_inv[iSP,i,:])\n",
    "                k_[iSP,i], a_[iSP,i], b_[iSP,i] = TB.BrewHamrock(R_Reduced[iSP,i,0], R_Reduced[iSP,i,1], dx[iSP,i], E_Reduced)\n",
    "                \n",
    "                if mode==0:        \n",
    "                    F_norm[iSP,i] = TB.Tsuji(k_[iSP,i], zeta, Ball_m, 0, dx[iSP,i])\n",
    "                    F_[iSP,i,:]   = - F_norm[iSP,i] * np.array([0, cos_sin[iSP,i,0], cos_sin[iSP,i,1]])\n",
    "                    if (iSP==0) and (w12[0,0]>w12[1,0]):\n",
    "                        muF_[iSP,i,:] = 0.5 * mu * F_norm[iSP,i] * np.array([0,-cos_sin[iSP,i,1], cos_sin[iSP,i,0]])\n",
    "                    else:\n",
    "                        muF_[iSP,i,:] = 0.5 * mu * F_norm[iSP,i] * np.array([0, cos_sin[iSP,i,1],-cos_sin[iSP,i,0]])\n",
    "                \n",
    "                if mode==1:        \n",
    "                    v_[iSP,i] = v_ball.dot(exyz[iSP,i,:])\n",
    "                    F_norm[iSP,i] = TB.Tsuji(k_[iSP,i], zeta, Ball_m, v_[iSP,i], dx[iSP,i])                    \n",
    "                    F_[iSP,i,:] = - F_norm[iSP,i] * exyz[iSP,i,:]\n",
    "                \n",
    "                a_dir[iSP,i,:] = - np.cross(b_dir[iSP,:], exyz[iSP,i,:])\n",
    "                peak[iSP,i,:] = x_ball + (R - dx[iSP,i] / 2) * exyz[iSP,i,:]\n",
    "                \n",
    "                if mode==1:\n",
    "                    for j in range(2):\n",
    "                        parabola[iSP,i,j] = TB.Parabola(Ball_r_inv, SP_r_inv[iSP,i,j], dx[iSP,i])\n",
    "\n",
    "                    p_mesh[iSP,i,:,:] = peak[iSP,i,:] + Make_Matrix(a_[iSP,i] * x_mesh, a_dir[iSP,i,:]) + Make_Matrix(b_[iSP,i] * y_mesh, b_dir[iSP,:]) + Make_Matrix(parabola[iSP,i,1] * np.square(a_[iSP,i]) * x_square - parabola[iSP,i,0] * np.square(b_[iSP,i]) * y_square, -exyz[iSP,i,:])\n",
    "                    F_mesh[iSP,i,:] = F_norm[iSP,i] * ratio_mesh\n",
    "                    SP_v[iSP,i,:,:]  = TB.surface_velocity(Zeros, p_mesh[iSP,i,:,:], v12[iSP], w12[iSP])\n",
    "                    BL_v[iSP,i,:,:]  = TB.surface_velocity(x_ball, p_mesh[iSP,i,:,:], v_ball, w_ball)\n",
    "                    dv[iSP,i,:,:]    = SP_v[iSP,i,:,:] - BL_v[iSP,i,:,:]\n",
    "                    v_dir[iSP,i,:,:] = dv[iSP,i,:,:].T * (1 / np.sqrt(np.square(dv[iSP,i,:,:]).sum(1)))\n",
    "                    muF[iSP,i,:,:] = F_mesh[iSP,i,:] * v_dir[iSP,i,:,:] * mu\n",
    "                    muT[iSP,i,:,:] = TB.calc_Torque(x_ball, p_mesh[iSP,i,:,:], muF[iSP,i,:,:].T)\n",
    "                    \n",
    "    if mode==0:\n",
    "        return ((F_ + muF_).sum(0).sum(0))[1:]\n",
    "                \n",
    "    if mode==1:\n",
    "        Fm_ball = (F_.sum(0).sum(0) + muF.sum(0).sum(0).sum(1)) / Ball_m * 1e6\n",
    "        TI_ball = (muT.sum(0).sum(0).sum(0)) / Ball_I * 1e6\n",
    "        return np.concatenate([v_ball, Fm_ball, TI_ball])\n",
    "    \n",
    "    return 0\n",
    "\n"
   ]
  },
  {
   "cell_type": "code",
   "execution_count": 17,
   "metadata": {},
   "outputs": [
    {
     "name": "stdout",
     "output_type": "stream",
     "text": [
      "[-0. -0.]\n",
      "[-0.00163693 -0.00112587]\n",
      "[1.01287867e-10 5.94440053e-11]\n"
     ]
    }
   ],
   "source": [
    "from scipy.optimize import fsolve\n",
    "\n",
    "eta_init = np.array([-0.0, -0.])\n",
    "eta0 = fsolve(static_spiral, eta_init, args=(0,0,0))\n",
    "\n",
    "print(eta_init)\n",
    "print(eta0)\n",
    "print(static_spiral(eta0, 0, 0, 0))\n"
   ]
  },
  {
   "cell_type": "code",
   "execution_count": 21,
   "metadata": {},
   "outputs": [],
   "source": [
    "def get_vw_pure(xvw_ball):\n",
    "    \n",
    "    th = 0.0\n",
    "    eta_ball = np.array([th, xvw_ball[0], xvw_ball[1]])\n",
    "    x_ball   = SP12[1].to_xyz(eta_ball)\n",
    "    \n",
    "    for iSP, SP in enumerate(SP12):\n",
    "        \n",
    "        eta[iSP,:] = SP.to_eta2(x_ball)\n",
    "        xyz2eta[iSP,:,:] = SP.get_xyz2eta(eta[iSP,0])\n",
    "        b_dir[iSP,:] = xyz2eta[iSP,:,:].T @ np.array([1.0, 0.0, 0.0])\n",
    "        \n",
    "        for i in range(2):\n",
    "            cos_sin[iSP,i], dx[iSP,i], exyz[iSP,i,:] = SP.get_contact(x_ball, R, i)\n",
    "            \n",
    "    # どっちの溝に固定されているのか（＝２点で支えている方がどっちか）を特定したい\n",
    "    \n",
    "    # 主荷重２点を特定したい\n",
    "    \n",
    "    # 支えている溝に沿う速度を求める（主荷重２点の表面速度）\n",
    "    \n",
    "    # 理論自転数と公転速度を知りたい\n",
    "    \n",
    "    # 主荷重２点を結ぶ直線と進行方向の外積を知りたい\n",
    "    \n",
    "    # 上記の回転軸と回転数の積、進行速度を戻り値にしたい\n",
    "    \n",
    "    for iSP, SP in enumerate(SP12):\n",
    "        \n",
    "        for i in range(2):\n",
    "            \n",
    "            if dx[iSP,i] > 0:\n",
    "                SP_r_inv[iSP,i,:] = SP.get_rho(cos_sin[iSP,i,0], i)\n",
    "                R_Reduced[iSP,i,:] = 1.0 / (Ball_r_inv + SP_r_inv[iSP,i,:])\n",
    "                k_[iSP,i], a_[iSP,i], b_[iSP,i] = TB.BrewHamrock(R_Reduced[iSP,i,0], R_Reduced[iSP,i,1], dx[iSP,i], E_Reduced)\n",
    "                \n",
    "                if mode==0:        \n",
    "                    F_norm[iSP,i] = TB.Tsuji(k_[iSP,i], zeta, Ball_m, 0, dx[iSP,i])\n",
    "                    F_[iSP,i,:]   = - F_norm[iSP,i] * np.array([0, cos_sin[iSP,i,0], cos_sin[iSP,i,1]])\n",
    "                    if (iSP==0) and (w12[0,0]>w12[1,0]):\n",
    "                        muF_[iSP,i,:] = 0.5 * mu * F_norm[iSP,i] * np.array([0,-cos_sin[iSP,i,1], cos_sin[iSP,i,0]])\n",
    "                    else:\n",
    "                        muF_[iSP,i,:] = 0.5 * mu * F_norm[iSP,i] * np.array([0, cos_sin[iSP,i,1],-cos_sin[iSP,i,0]])\n",
    "                \n",
    "                if mode==1:\n",
    "                    v_[iSP,i] = v_ball.dot(exyz[iSP,i,:])\n",
    "                    F_norm[iSP,i] = TB.Tsuji(k_[iSP,i], zeta, Ball_m, v_[iSP,i], dx[iSP,i])                    \n",
    "                    F_[iSP,i,:] = - F_norm[iSP,i] * exyz[iSP,i,:]\n",
    "                \n",
    "                a_dir[iSP,i,:] = - np.cross(b_dir[iSP,:], exyz[iSP,i,:])\n",
    "                peak[iSP,i,:] = x_ball + (R - dx[iSP,i] / 2) * exyz[iSP,i,:]\n",
    "                \n",
    "                if mode==1:\n",
    "                    for j in range(2):\n",
    "                        parabola[iSP,i,j] = TB.Parabola(Ball_r_inv, SP_r_inv[iSP,i,j], dx[iSP,i])\n",
    "\n",
    "                    p_mesh[iSP,i,:,:] = peak[iSP,i,:] + Make_Matrix(a_[iSP,i] * x_mesh, a_dir[iSP,i,:]) + Make_Matrix(b_[iSP,i] * y_mesh, b_dir[iSP,:]) + Make_Matrix(parabola[iSP,i,1] * np.square(a_[iSP,i]) * x_square - parabola[iSP,i,0] * np.square(b_[iSP,i]) * y_square, -exyz[iSP,i,:])\n",
    "                    F_mesh[iSP,i,:] = F_norm[iSP,i] * ratio_mesh\n",
    "                    SP_v[iSP,i,:,:]  = TB.surface_velocity(Zeros, p_mesh[iSP,i,:,:], v12[iSP], w12[iSP])\n",
    "                    BL_v[iSP,i,:,:]  = TB.surface_velocity(x_ball, p_mesh[iSP,i,:,:], v_ball, w_ball)\n",
    "                    dv[iSP,i,:,:]    = SP_v[iSP,i,:,:] - BL_v[iSP,i,:,:]\n",
    "                    v_dir[iSP,i,:,:] = dv[iSP,i,:,:].T * (1 / np.sqrt(np.square(dv[iSP,i,:,:]).sum(1)))\n",
    "                    muF[iSP,i,:,:] = F_mesh[iSP,i,:] * v_dir[iSP,i,:,:] * mu\n",
    "                    muT[iSP,i,:,:] = TB.calc_Torque(x_ball, p_mesh[iSP,i,:,:], muF[iSP,i,:,:].T)\n",
    "    \n",
    "    return 0\n"
   ]
  },
  {
   "cell_type": "code",
   "execution_count": null,
   "metadata": {},
   "outputs": [],
   "source": []
  },
  {
   "cell_type": "code",
   "execution_count": null,
   "metadata": {},
   "outputs": [],
   "source": []
  }
 ],
 "metadata": {
  "kernelspec": {
   "display_name": "Python 3",
   "language": "python",
   "name": "python3"
  },
  "language_info": {
   "codemirror_mode": {
    "name": "ipython",
    "version": 3
   },
   "file_extension": ".py",
   "mimetype": "text/x-python",
   "name": "python",
   "nbconvert_exporter": "python",
   "pygments_lexer": "ipython3",
   "version": "3.8.5"
  }
 },
 "nbformat": 4,
 "nbformat_minor": 4
}

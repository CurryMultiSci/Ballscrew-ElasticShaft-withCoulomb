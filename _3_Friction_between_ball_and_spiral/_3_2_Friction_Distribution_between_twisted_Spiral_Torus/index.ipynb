{
 "cells": [
  {
   "cell_type": "markdown",
   "metadata": {},
   "source": [
    "# 3.2. C\n",
    "\n",
    "These questions will be examined.\n",
    "\n",
    "## 3.2.1. Cr\n",
    "\n",
    "|                      |      US     |     JP    |\n",
    "|:--------------------:|:-----------:|:---------:|\n",
    "|    Representative    | S2A, Timken |  NSK, NTN |\n",
    "|     Totalization     | Integration $ \\int $ ![Asset1](Asset1.svg)| Summation $ \\sum $ ![Asset2](Asset2.svg)|\n",
    "| friction coefficient | Simple Coulomb <br> ![Coulomb](Coulomb.jpg)| Smooth Coulomb　<br> ![Smooth_Coulomb](Smooth_Coulomb.jpg)  |\n",
    "|         Merit        |             |           |"
   ]
  },
  {
   "cell_type": "code",
   "execution_count": 2,
   "metadata": {},
   "outputs": [],
   "source": [
    "from IPython.display import set_matplotlib_formats\n",
    "set_matplotlib_formats('svg')\n",
    "%config InlineBackend.figure_format = \"svg\"\n"
   ]
  },
  {
   "cell_type": "code",
   "execution_count": null,
   "metadata": {},
   "outputs": [],
   "source": []
  },
  {
   "cell_type": "code",
   "execution_count": null,
   "metadata": {},
   "outputs": [],
   "source": []
  }
 ],
 "metadata": {
  "kernelspec": {
   "display_name": "Python 3",
   "language": "python",
   "name": "python3"
  },
  "language_info": {
   "codemirror_mode": {
    "name": "ipython",
    "version": 3
   },
   "file_extension": ".py",
   "mimetype": "text/x-python",
   "name": "python",
   "nbconvert_exporter": "python",
   "pygments_lexer": "ipython3",
   "version": "3.8.8"
  }
 },
 "nbformat": 4,
 "nbformat_minor": 4
}

{
 "cells": [
  {
   "cell_type": "markdown",
   "metadata": {},
   "source": [
    "## 多項式の項の求め方\n",
    "\n",
    "$$\n",
    "\\begin{equation}\n",
    "\\left\\{ \\,\n",
    "    \\begin{aligned}\n",
    "    \\theta_z(s) &= a_1 s^2 + a_2 s \\\\\n",
    "    y(s) &= (l_0 + \\Delta x) (\\frac{1}{3}a_1 s^3 + \\frac{1}{2}a _2s^2) \\\\\n",
    "    \\end{aligned}\n",
    "\\right.\n",
    "\\end{equation}\n",
    "$$\n",
    "\n",
    "$$\n",
    "\\begin{align}\n",
    "y(s) &= \\int_{0}^{s} \\theta_z(s) \\mathrm{d}x \\\\\n",
    "     &= \\int_{0}^{s} \\theta_z(s) \\frac{\\mathrm{d}x}{\\mathrm{d}s} \\mathrm{d}s \\\\\n",
    "     &= \\int_{0}^{s} (a_1 s^2 + a_2 s) (l_0 + \\Delta x) \\mathrm{d}s \\\\\n",
    "     &= (l_0 + \\Delta x) (\\frac{1}{3}a_1 s^3 + \\frac{1}{2}a _2s^2) \\\\\n",
    "\\end{align}\n",
    "$$\n",
    "\n",
    "$$\\left(\\theta_z(1)=\\theta_{z1}, y(1)=y_1 \\right)$$\n",
    "\n",
    "$$\n",
    "\\begin{align}\n",
    "\\left[ \\begin{array}{cccc}\n",
    "1 &1  \\\\\n",
    "\\frac{l_0 + \\Delta x}{3} & \\frac{l_0 + \\Delta x}{2} \\\\\n",
    "\\end{array}\\right]\n",
    "\\left[ \\begin{array}{cccc}\n",
    "a_1 \\\\\n",
    "a_2 \\\\\n",
    "\\end{array}\\right]\n",
    "&=\n",
    "\\left[ \\begin{array}{cccc}\n",
    "\\theta_{z1} \\\\\n",
    "y_1 \\\\\n",
    "\\end{array}\\right] \\\\\\\\\n",
    "\\left[ \\begin{array}{cccc}\n",
    "a_1 \\\\\n",
    "a_2 \\\\\n",
    "\\end{array}\\right]\n",
    "&=\n",
    "\\left[ \\begin{array}{cccc}\n",
    "3  &-\\frac{6}{l_0 + \\Delta x} \\\\\n",
    "-2 & \\frac{6}{l_0 + \\Delta x} \\\\\n",
    "\\end{array}\\right]\n",
    "\\left[ \\begin{array}{cccc}\n",
    "\\theta_{z1} \\\\\n",
    "y_1 \\\\\n",
    "\\end{array}\\right]\n",
    "\\end{align}\n",
    "$$\n"
   ]
  },
  {
   "cell_type": "code",
   "execution_count": 1,
   "metadata": {},
   "outputs": [],
   "source": [
    "import numpy as np  # The next command is required: \"pip install -U numpy\"\n",
    "import quaternion   # The next command is required: \"pip install numpy-quaternion\"\n"
   ]
  },
  {
   "cell_type": "code",
   "execution_count": 2,
   "metadata": {},
   "outputs": [],
   "source": [
    "def Beam_Deformation(x0, q0, x1, q1, l0):\n",
    "    \n",
    "    q0_inv = q0.inverse()\n",
    "    x1_ = quaternion.rotate_vectors(q0_inv, x1 - x0)\n",
    "\n",
    "    dx0 = x1_ - np.array([l0, 0, 0])\n",
    "    dq0 = q0_inv * q1 * 2\n",
    "    \n",
    "    l0_dx0  = l0 + dx0[0]\n",
    "    \n",
    "    return l0_dx0, dx0, dq0\n",
    "\n",
    "\n",
    "def Beam_Matrix(l0_dx0):\n",
    "    \n",
    "    ab_inv0 = np.array([[3,-6 / l0_dx0], [-2, 6 / l0_dx0]])\n",
    "    cd_inv0 = np.array([[3, 6 / l0_dx0], [-2,-6 / l0_dx0]])\n",
    "\n",
    "    return ab_inv0, cd_inv0\n",
    "\n",
    "\n",
    "def Beam_Coefficient(dx0, dq0, ab_inv0, cd_inv0):\n",
    "        \n",
    "    ab0 = ab_inv0 @ np.array([dq0.z, dx0[1]])\n",
    "    cd0 = cd_inv0 @ np.array([dq0.y, dx0[2]])\n",
    "    \n",
    "    return ab0, cd0\n",
    "\n",
    "# \n",
    "def Beam_Displacement(x0, q0, s, ab0, cd0, l0_dx0, dq0):\n",
    "    \n",
    "    s2 = s * s\n",
    "    s3 = s * s * s\n",
    "    \n",
    "    x_ = l0_dx0 * s\n",
    "    y_ = l0_dx0 * (ab0[0] / 3 * s3 + ab0[1] / 2 * s2)\n",
    "    z_ = l0_dx0 * (-cd0[0] / 3 * s3 - cd0[1] / 2 * s2)\n",
    "    \n",
    "    tx_ = dq0.x * s\n",
    "    ty_ = cd0[0] * s2 + cd0[1] * s\n",
    "    tz_ = ab0[0] * s2 + ab0[1] * s\n",
    "    \n",
    "    xs = x0 + quaternion.rotate_vectors(q0, np.array([x_,y_,z_]))\n",
    "    qs = q0 * quaternion.from_float_array([1, tx_/2, ty_/2, tz_/2]).normalized()\n",
    "    \n",
    "    return xs, qs\n",
    "\n",
    "def Beam_Displacement_All(x0, q0, x1, q1, l0, s):\n",
    "    \n",
    "    l0_dx0, dx0, dq0 = Beam_Deformation(x0, q0, x1, q1, l0)\n",
    "    ab_inv0, cd_inv0 = Beam_Matrix(l0_dx0)\n",
    "    ab0, cd0 = Beam_Coefficient(dx0, dq0, ab_inv0, cd_inv0)\n",
    "    xs, qs   = Beam_Displacement(x0, q0, s, ab0, cd0, l0_dx0, dq0)\n",
    "    \n",
    "    return xs, qs\n",
    "\n"
   ]
  },
  {
   "cell_type": "markdown",
   "metadata": {},
   "source": [
    "## 多項式近似を用いた梁の変位関数\n",
    "\n",
    "$$\n",
    "\\begin{align}\n",
    "x(s) &= (l_0 + \\Delta x) s \\\\\\\\\n",
    "y(s) &= (l_0 + \\Delta x) (\\frac{1}{3}a_1 s^3 + \\frac{1}{2}a _2 s^2) \\\\\\\\\n",
    "z(s) &= (l_0 + \\Delta x) (- \\frac{1}{3}a_3 s^3 - \\frac{1}{2}a_4 s^2) \\\\\\\\\n",
    "\\theta_x(s) &= \\Delta \\theta_x s \\\\\\\\\n",
    "\\theta_y(s) &= a_3 s^2 + a_4 s \\\\\\\\\n",
    "\\theta_z(s) &= a_1 s^2 + a_2 s \\\\\\\\\n",
    "(0 \\leq &s \\leq 1) \\\\\\\\\n",
    "\\end{align}\n",
    "$$\n",
    "\n"
   ]
  },
  {
   "cell_type": "code",
   "execution_count": 64,
   "metadata": {},
   "outputs": [
    {
     "name": "stdout",
     "output_type": "stream",
     "text": [
      "[-0.78905899  2.11670233 -0.84529201] quaternion(0.540339956560297, -0.725178997110428, -0.197260635232084, 0.378465844274176)\n",
      "[-0.78905899  2.11670233 -0.84529201] quaternion(0.540339956560297, -0.725178997110428, -0.197260635232084, 0.378465844274176)\n",
      "[ 1.11350863  4.19764352 -1.87043776] quaternion(0.551379862000511, -0.719777320846351, -0.188983867655294, 0.377075528165901)\n",
      "[ 1.11350863  4.19764352 -1.87043776] quaternion(0.551378646252525, -0.719777927829708, -0.188984786504486, 0.377075686747049)\n"
     ]
    }
   ],
   "source": [
    "error_scale = 1e-2\n",
    "\n",
    "x0 = np.random.randn(3)\n",
    "q0 = quaternion.from_float_array(np.random.randn(4)).normalized()\n",
    "dq = quaternion.from_float_array(np.append(1, np.random.randn(3) * error_scale)).normalized()\n",
    "q1 = q0 * dq\n",
    "x_unit = np.array([1, 0, 0])\n",
    "l0 = 3.0\n",
    "\n",
    "x1 = x0 + l0 * (quaternion.rotate_vectors(q0, x_unit)) + np.random.randn(3) * error_scale\n",
    "\n",
    "xs0, qs0 = Beam_Displacement_All(x0, q0, x1, q1, l0, 0.0)\n",
    "\n",
    "print(x0,  q0)\n",
    "print(xs0, qs0)\n",
    "\n",
    "xs1, qs1 = Beam_Displacement_All(x0, q0, x1, q1, l0, 1.0)\n",
    "\n",
    "print(x1,  q1)\n",
    "print(xs1, qs1)\n"
   ]
  },
  {
   "cell_type": "markdown",
   "metadata": {},
   "source": [
    "## 梁の断面位置を求める近似式について\n",
    "\n",
    "$$\n",
    "\\begin{align}\n",
    "\\vec{x}(s) &= \\vec{x}_0 + q_0 \\otimes \\left( \\left[ \\begin{array}{cccc} (l_0 + \\Delta x)s \\\\ (l_0 + \\Delta x) (\\frac{1}{3}a_1 s^3 + \\frac{1}{2}a_2s^2) \\\\ -(l_0 + \\Delta x) (\\frac{1}{3}a_3 s^3 + \\frac{1}{2}a_4 s^2) \\\\ \\end{array}\\right] + \\Delta q(s) \\otimes \\left[ \\begin{array}{cccc} 0 \\\\ u \\\\ v \\\\ \\end{array}\\right]\\right) \\\\\\\\\n",
    "&\\approx \\vec{x}_0 + q_0 \\otimes \\left( (l_0 + \\Delta x) \\left[ \\begin{array}{cccc} s \\\\ \\frac{1}{3}a_1 s^3 + \\frac{1}{2}a _2s^2 \\\\ - \\frac{1}{3}a_3 s^3 - \\frac{1}{2}a_4 s^2 \\\\ \\end{array}\\right] + \\left[ \\begin{array}{cccc} - \\theta_z u' + \\theta_y v' \\\\ u' \\\\ v' \\\\ \\end{array}\\right]\\right) \\\\\\\\\n",
    "\\end{align}\n",
    "$$\n",
    "\n",
    "$$\n",
    "\\left( \\Delta q_x \\otimes \\left[ \\begin{array}{cccc} 0 \\\\ u \\\\ v \\\\ \\end{array}\\right] = \\left[ \\begin{array}{cccc} 0 \\\\ u' \\\\ v' \\\\ \\end{array}\\right] \\right) \\\\\\\\\n",
    "$$\n",
    "\n",
    "$$\n",
    "\\left[ \\begin{array}{cccc} x_0 \\\\ y_0 \\\\ z_0 \\\\ \\end{array}\\right] \\approx (l_0 + \\Delta x) \\left[ \\begin{array}{cccc} s \\\\ \\frac{1}{3}a_1 s^3 + \\frac{1}{2}a _2s^2 \\\\ - \\frac{1}{3}a_3 s^3 - \\frac{1}{2}a_4 s^2 \\\\ \\end{array}\\right] + \\left[ \\begin{array}{cccc} - (a_1 s^2+a_2 s) u' + (a_3 s^2+a_4 s) v' \\\\ u' \\\\ v' \\\\ \\end{array}\\right]\n",
    "$$\n",
    "\n",
    "1. 高さからおおよその$s'$を求める．\n",
    "1. $s'$からおおよその$y', z'$を求める．\n",
    "1. $y', z'$からおおよその$u'', v''$を求める．\n",
    "1. $x$成分について$s$の2次関数を解きたいが，$s$では2次の項の値が小さすぎ誤差が大きくなることが予想されるため，$s = 1/t$の関係を持つ$t$について解く．\n",
    "\n",
    "$$\n",
    "\\begin{align}\n",
    "x_0 &= (l_0 + \\Delta x) s -(a_1 s^2+a_2 s) u'' + (a_3 s^2+a_4 s) v'' \\\\\\\\\n",
    "0   &= (a_1 u'' - a_3 v'') s^2 + \\left(a_2 u'' - a_4 v'' - (l_0 + \\Delta x)\\right) s + x_0 \\\\\\\\\n",
    "    &= (a_1 u'' - a_3 v'') \\frac{1}{t^2} + \\left(a_2 u'' - a_4 v'' - (l_0 + \\Delta x) \\right) \\frac{1}{t} + x_0 \\\\\\\\\n",
    "    &= x_0 t^2  + \\left(a_2 u'' - a_4 v'' - (l_0 + \\Delta x) \\right) t + (a_1 u'' - a_3 v'') \\\\\\\\\n",
    "t   &= \\frac{-b\\pm\\sqrt{b^2-4ac}}{2a} \\\\\\\\\n",
    "\\end{align} \\\\\\\\\n",
    "\\left(a = x_0, b = a_2 u'' - a_4 v'' - (l_0 + \\Delta x) , c = a_1 u'' - a_3 v''\\right) \\\\\\\\\n",
    "$$\n",
    "\n",
    "$b<0$であり，$c=0$を代入したときに，$t=0$では明らかにおかしいため，±の符号は$+$である．よって，\n",
    "\n",
    "$$\n",
    "s = \\frac{2a}{\\sqrt{b^2-4ac}-b}\n",
    "$$\n",
    "\n"
   ]
  },
  {
   "cell_type": "markdown",
   "metadata": {},
   "source": [
    "# 曲がった梁に沿う螺旋\n",
    "\n",
    "![sample_spiral](sample_spiral.svg)"
   ]
  },
  {
   "cell_type": "code",
   "execution_count": 65,
   "metadata": {},
   "outputs": [],
   "source": [
    "s_true = 0.9\n",
    "y_true = 0.2\n",
    "z_true = 0.3\n",
    "\n",
    "l0_dx0, dx0, dq0 = Beam_Deformation(x0, q0, x1, q1, l0)\n",
    "ab_inv0, cd_inv0 = Beam_Matrix(l0_dx0)\n",
    "ab0, cd0 = Beam_Coefficient(dx0, dq0, ab_inv0, cd_inv0)\n",
    "xs_true, qs_true = Beam_Displacement(x0, q0, s_true, ab0, cd0, l0_dx0, dq0)\n",
    "p_true = xs_true + quaternion.rotate_vectors(qs_true, np.array([0, y_true, z_true]))\n"
   ]
  },
  {
   "cell_type": "code",
   "execution_count": 76,
   "metadata": {},
   "outputs": [
    {
     "data": {
      "text/plain": [
       "0.8999905082349027"
      ]
     },
     "execution_count": 76,
     "metadata": {},
     "output_type": "execute_result"
    }
   ],
   "source": [
    "uv_ = quaternion.rotate_vectors(q0.inverse(), p_true - x0)\n",
    "s_  = uv_[0] / l0_dx0\n",
    "y_  = l0_dx0 * ( ab0[0] / 3 * s_**3 + ab0[1] / 2 * s_**2)\n",
    "z_  = l0_dx0 * (-cd0[0] / 3 * s_**3 - cd0[1] / 2 * s_**2)\n",
    "u__ = uv_[1] - y_\n",
    "v__ = uv_[2] - z_\n",
    "a_  = uv_[0]\n",
    "b_  = ab0[1] * u__ - cd0[1] * v__ - l0_dx0\n",
    "c_  = ab0[0] * u__ - cd0[0] * v__\n",
    "s__ = 2 * a_ / (np.sqrt(b_*b_ - 4*a_*c_) - b_)\n",
    "\n",
    "s__\n"
   ]
  },
  {
   "cell_type": "markdown",
   "metadata": {},
   "source": [
    "$$\n",
    "\\begin{align}\n",
    "p_x(s)                              &=(l_0+\\Delta x)s - ( a_1 s^2 + a_2 s) r_y + ( a_3 s^2 + a_4 s) r_z \\\\\\\\\n",
    "\\frac{\\rm{d}}{\\rm{d}s} p_x(s)       &=(l_0+\\Delta x)  - (2a_1 s   + a_2  ) r_y + (2a_3 s   + a_4  ) r_z \\\\\\\\\n",
    "r_0\\phi_x(s)                        &= r_0 \\left( \\frac{2 \\pi l_0}{L_0} + \\Delta \\theta_x \\right) s \\\\\\\\\n",
    "\\frac{\\rm{d}}{\\rm{d}s} r_0\\phi_x(s) &= r_0 \\left( \\frac{2 \\pi l_0}{L_0} + \\Delta \\theta_x \\right) \\\\\\\\\n",
    "\\angle \\alpha(s)                    &= \\tan ^{ - 1} \\frac{\\frac{\\rm{d}}{\\rm{d}s} p_x(s)}{\\frac{\\rm{d}}{\\rm{d}s} r_0\\phi_x(s)} \\\\\\\\\n",
    "\\end{align}\n",
    "$$"
   ]
  },
  {
   "cell_type": "code",
   "execution_count": 77,
   "metadata": {},
   "outputs": [
    {
     "name": "stdout",
     "output_type": "stream",
     "text": [
      "0.024807086611937257\n"
     ]
    }
   ],
   "source": [
    "dq_true = q0.inverse() * qs_true * 2\n",
    "print(dq_true.x)\n"
   ]
  },
  {
   "cell_type": "code",
   "execution_count": 78,
   "metadata": {},
   "outputs": [
    {
     "data": {
      "text/plain": [
       "0.024816965123610542"
      ]
     },
     "execution_count": 78,
     "metadata": {},
     "output_type": "execute_result"
    }
   ],
   "source": [
    "((y_true - u__)*v__ - (z_true - v__)*u__) / 0.13\n",
    "\n"
   ]
  },
  {
   "cell_type": "code",
   "execution_count": 138,
   "metadata": {},
   "outputs": [],
   "source": [
    "L0 = 0.5\n",
    "r0 = 0.4\n",
    "n0 = 1000\n",
    "da = 0.7\n",
    "p_array = np.zeros([n0, 3])\n",
    "a_array = np.zeros([n0, 3])\n",
    "s_array = np.linspace(0.99, 1, n0)\n",
    "\n",
    "for i0 in range(n0):\n",
    "    xs, qs = Beam_Displacement_All(x0, q0, x1, q1, l0, s_array[i0])\n",
    "    alps   = da + (2 * np.pi * l0 / L0 * s_array[i0])\n",
    "    ys, zs = r0 * np.cos(alps), r0 * np.sin(alps)\n",
    "    p_array[i0] = xs + quaternion.rotate_vectors(qs, np.array([0, ys, zs]))\n",
    "    a_array[i0] = xs + quaternion.rotate_vectors(qs, np.array([0,  0,  0]))\n",
    "    "
   ]
  },
  {
   "cell_type": "code",
   "execution_count": 139,
   "metadata": {},
   "outputs": [
    {
     "data": {
      "image/png": "[encoded data removed]",
      "text/plain": [
       "<Figure size 432x288 with 2 Axes>"
      ]
     },
     "metadata": {
      "needs_background": "light"
     },
     "output_type": "display_data"
    }
   ],
   "source": [
    "from matplotlib import pyplot as plt\n",
    "\n",
    "fig, axs = plt.subplots(1,2)\n",
    "axs[0].plot(a_array[:,0], a_array[:,1], p_array[:,0], p_array[:,1])\n",
    "axs[0].set_aspect('equal')\n",
    "\n",
    "axs[1].plot(a_array[:,0], a_array[:,2], p_array[:,0], p_array[:,2])\n",
    "axs[1].set_aspect('equal')\n",
    "\n"
   ]
  },
  {
   "cell_type": "code",
   "execution_count": 140,
   "metadata": {},
   "outputs": [],
   "source": [
    "p49, p50, p51 = quaternion.rotate_vectors(q0.inverse(), p_array[49:52] - x0)\n",
    "a49, a50, a51 = quaternion.rotate_vectors(q0.inverse(), a_array[49:52] - x0)\n",
    "\n",
    "p_dirc = p51 - p49\n",
    "a_dirc = a51 - a49\n",
    "\n",
    "ds = s_array[51] - s_array[49]\n"
   ]
  },
  {
   "cell_type": "code",
   "execution_count": 141,
   "metadata": {},
   "outputs": [
    {
     "data": {
      "text/plain": [
       "(array([2.97293436, 0.39186827, 0.1475296 ]),\n",
       " array([2.97296614, 0.3918138 , 0.14767015]),\n",
       " array([2.97299792, 0.39175927, 0.14781069]))"
      ]
     },
     "execution_count": 141,
     "metadata": {},
     "output_type": "execute_result"
    }
   ],
   "source": [
    "p49, p50, p51"
   ]
  },
  {
   "cell_type": "code",
   "execution_count": 142,
   "metadata": {},
   "outputs": [
    {
     "data": {
      "text/plain": [
       "0.19633812858030075"
      ]
     },
     "execution_count": 142,
     "metadata": {},
     "output_type": "execute_result"
    }
   ],
   "source": [
    "from numpy.linalg import norm\n",
    "\n",
    "cos_alp_ = np.dot(p_dirc, a_dirc) / norm(p_dirc) / norm(a_dirc)\n",
    "cos_alp_\n"
   ]
  },
  {
   "cell_type": "code",
   "execution_count": 143,
   "metadata": {},
   "outputs": [
    {
     "data": {
      "text/plain": [
       "(0.3768507789365404, 0.13410253694439478)"
      ]
     },
     "execution_count": 143,
     "metadata": {},
     "output_type": "execute_result"
    }
   ],
   "source": [
    "alps     = da + 2 * np.pi * l0 * s_array[50] / L0\n",
    "y50, z50 = r0 * np.cos(alps), r0 * np.sin(alps)\n",
    "\n",
    "y50, z50\n"
   ]
  },
  {
   "cell_type": "code",
   "execution_count": 144,
   "metadata": {},
   "outputs": [
    {
     "data": {
      "text/plain": [
       "15.090750014273192"
      ]
     },
     "execution_count": 144,
     "metadata": {},
     "output_type": "execute_result"
    }
   ],
   "source": [
    "dpds = p_dirc / ds\n",
    "dpxds = np.dot(dpds, a_dirc) / norm(a_dirc)\n",
    "dphids = norm(dpds - dpxds * a_dirc / norm(a_dirc))\n",
    "dphids\n"
   ]
  },
  {
   "cell_type": "code",
   "execution_count": 145,
   "metadata": {},
   "outputs": [
    {
     "data": {
      "text/plain": [
       "-5.2811803252534295"
      ]
     },
     "execution_count": 145,
     "metadata": {},
     "output_type": "execute_result"
    }
   ],
   "source": [
    "l0_dx0, dx0, dq0 = Beam_Deformation(x0, q0, x1, q1, l0)\n",
    "np.log10(np.abs(1 - r0 * (2 * np.pi * l0 / L0 + dq0.x) / dphids))\n"
   ]
  },
  {
   "cell_type": "code",
   "execution_count": 146,
   "metadata": {},
   "outputs": [
    {
     "data": {
      "text/plain": [
       "-3.1331814275440775"
      ]
     },
     "execution_count": 146,
     "metadata": {},
     "output_type": "execute_result"
    }
   ],
   "source": [
    "np.log10(np.abs(1 - r0 * 2 * np.pi * l0 / L0 / dphids))"
   ]
  },
  {
   "cell_type": "code",
   "execution_count": 147,
   "metadata": {},
   "outputs": [
    {
     "data": {
      "text/plain": [
       "15.0592905427078"
      ]
     },
     "execution_count": 147,
     "metadata": {},
     "output_type": "execute_result"
    }
   ],
   "source": [
    "norm(dpds[1:])\n"
   ]
  },
  {
   "cell_type": "code",
   "execution_count": null,
   "metadata": {},
   "outputs": [],
   "source": []
  },
  {
   "cell_type": "code",
   "execution_count": null,
   "metadata": {},
   "outputs": [],
   "source": []
  },
  {
   "cell_type": "code",
   "execution_count": null,
   "metadata": {},
   "outputs": [],
   "source": []
  },
  {
   "cell_type": "code",
   "execution_count": null,
   "metadata": {},
   "outputs": [],
   "source": []
  }
 ],
 "metadata": {
  "kernelspec": {
   "display_name": "Python 3",
   "language": "python",
   "name": "python3"
  },
  "language_info": {
   "codemirror_mode": {
    "name": "ipython",
    "version": 3
   },
   "file_extension": ".py",
   "mimetype": "text/x-python",
   "name": "python",
   "nbconvert_exporter": "python",
   "pygments_lexer": "ipython3",
   "version": "3.8.8"
  }
 },
 "nbformat": 4,
 "nbformat_minor": 4
}

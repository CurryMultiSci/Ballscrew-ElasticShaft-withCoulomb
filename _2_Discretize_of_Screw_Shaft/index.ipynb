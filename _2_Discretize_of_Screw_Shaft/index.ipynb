{
 "cells": [
  {
   "cell_type": "markdown",
   "metadata": {},
   "source": [
    "\n",
    "bbbb\n",
    "\n",
    "$$\n",
    "\\begin{align}\n",
    "x(s) &= (l_0 + \\Delta x) s \\\\\\\\\n",
    "y(s) &= \\frac{a}{3}(l_0 s)^3 + \\frac{b}{2}(l_0 s)^2 \\\\\\\\\n",
    "z(s) &= -\\frac{c}{3}(l_0 s)^3 - \\frac{d}{2}(l_0 s)^2 \\\\\\\\\n",
    "\\theta_x(s) &= \\Delta \\theta_x s \\\\\\\\\n",
    "\\theta_y(s) &= c(l_0 s)^2 + d(l_0 s) \\\\\\\\\n",
    "\\theta_z(s) &= a(l_0 s)^2 + b(l_0 s) \\\\\\\\\n",
    "(0 \\leq &s \\leq 1) \\\\\\\\\n",
    "\\end{align}\n",
    "$$\n",
    "\n",
    "cccc\n",
    "\n",
    "$$\n",
    "\\phi\n",
    "$$\n"
   ]
  },
  {
   "cell_type": "code",
   "execution_count": 9,
   "metadata": {},
   "outputs": [],
   "source": [
    "import numpy as np  # The next command is required: \"pip install -U numpy\"\n",
    "import quaternion   # The next command is required: \"pip install numpy-quaternion\"\n"
   ]
  },
  {
   "cell_type": "code",
   "execution_count": 10,
   "metadata": {},
   "outputs": [],
   "source": [
    "def Beam_Matrix(l0):\n",
    "    l0_1 = 1 / l0\n",
    "    l0_2 = 1 / l0 / l0\n",
    "    l0_3 = 1 / l0 / l0 / l0\n",
    "    \n",
    "    ab_inv0 = np.array([[-6 * l0_3, 3 * l0_2], [ 6 * l0_2, -2 * l0_1]])\n",
    "    cd_inv0 = np.array([[ 6 * l0_3, 3 * l0_2], [-6 * l0_2, -2 * l0_1]])\n",
    "\n",
    "    return ab_inv0, cd_inv0\n",
    "\n",
    "\n",
    "def Beam_Coefficient(x0, q0, x1, q1, l0, ab_inv0, cd_inv0):\n",
    "    q0_inv = q0.inverse()\n",
    "    x1_ = quaternion.rotate_vectors(q0_inv, x1 - x0)\n",
    "\n",
    "    dx = x1_ - np.array([l0, 0, 0])\n",
    "    dq = q0_inv * q1 * 2\n",
    "    \n",
    "    ab0 = ab_inv0 @ np.array([dx[1], dq.z])\n",
    "    cd0 = cd_inv0 @ np.array([dx[2], dq.y])\n",
    "    \n",
    "    dx0  = l0 + dx[0]\n",
    "    dqx0 = dq.x\n",
    "    \n",
    "    return ab0, cd0, dx0, dqx0\n",
    "\n",
    "# \n",
    "def Beam_Displacement(x0, q0, l0, s, ab0, cd0, dx0, dqx0):\n",
    "    \n",
    "    ls  = l0 * s\n",
    "    ls2 = ls * ls\n",
    "    ls3 = ls2 * ls\n",
    "    \n",
    "    x_ = dx0 * s\n",
    "    y_ = ab0[0] / 3 * ls3 + ab0[1] / 2 * ls2\n",
    "    z_ =-cd0[0] / 3 * ls3 - cd0[1] / 2 * ls2\n",
    "    \n",
    "    tx_ = dqx0 * s\n",
    "    ty_ = cd0[0] * ls2 + cd0[1] * ls\n",
    "    tz_ = ab0[0] * ls2 + ab0[1] * ls\n",
    "    \n",
    "    xs = x0 + quaternion.rotate_vectors(q0, np.array([x_,y_,z_]))\n",
    "    qs = q0 * quaternion.from_float_array([1, tx_/2, ty_/2, tz_/2]).normalized()\n",
    "    \n",
    "    return xs, qs\n"
   ]
  },
  {
   "cell_type": "code",
   "execution_count": 11,
   "metadata": {},
   "outputs": [
    {
     "name": "stdout",
     "output_type": "stream",
     "text": [
      "[0. 0. 0.] quaternion(1, 0, 0, 0)\n",
      "[0. 0. 0.] quaternion(1, 0, 0, 0)\n",
      "[1.00e+00 2.12e-05 0.00e+00] quaternion(0.999999999874389, 0, 0, 1.58499999960181e-05)\n",
      "[1.00e+00 2.12e-05 0.00e+00] quaternion(0.999999999874389, 0, 0, 1.58499999980091e-05)\n"
     ]
    }
   ],
   "source": [
    "r0 = 0.1\n",
    "l0 = 1.0\n",
    "E0 = 2e11\n",
    "G0 = 8e10\n",
    "\n",
    "A0 = np.pi * r0**2\n",
    "I0 = np.pi / 4 * r0**4\n",
    "J0 = np.pi / 2 * r0**4\n",
    "\n",
    "kxx =  1 * E0 * A0 / l0\n",
    "kyy = 12 * E0 * I0 / l0**3\n",
    "kyt =  6 * E0 * I0 / l0**2\n",
    "ktx =  1 * G0 * J0 / l0\n",
    "kty =  2 * E0 * I0\n",
    "\n",
    "x0 = np.array([0.0, 0.0, 0.0])\n",
    "q0 = quaternion.from_float_array([1,0,0,0])\n",
    "q1 = quaternion.from_float_array([1, 0, 0, 3.17e-05 / 2]).normalized()\n",
    "x_unit = np.array([1, 0, 0])\n",
    "\n",
    "x1 = x0 + l0 * (quaternion.rotate_vectors(q0, x_unit)) + np.array([0, 0.0212e-3, 0])\n",
    "\n",
    "ab_inv0, cd_inv0 = Beam_Matrix(l0)\n",
    "ab0, cd0, dx0, dqx0 = Beam_Coefficient(x0, q0, x1, q1, l0, ab_inv0, cd_inv0)\n",
    "xs, qs = Beam_Displacement(x0, q0, l0, 0.0, ab0, cd0, dx0, dqx0)\n",
    "\n",
    "print(xs, qs)\n",
    "print(x0, q0)\n",
    "\n",
    "xs, qs = Beam_Displacement(x0, q0, l0, 1.0, ab0, cd0, dx0, dqx0)\n",
    "\n",
    "print(xs, qs)\n",
    "print(x1, q1)\n"
   ]
  },
  {
   "cell_type": "code",
   "execution_count": 12,
   "metadata": {},
   "outputs": [
    {
     "name": "stdout",
     "output_type": "stream",
     "text": [
      "[1.00e+00 2.12e-05 0.00e+00] quaternion(0.999999999874389, 0, 0, 1.58499999980091e-05)\n",
      "[1.00e+00 2.12e-05 0.00e+00] quaternion(0.999999999874389, 0, 0, 1.58499999980091e-05)\n",
      "[ 0.00000000e+00 -6.77626358e-21  0.00000000e+00] quaternion(1, 0, 0, 1.99092722559871e-15)\n",
      "[0. 0. 0.] quaternion(1, 0, 0, 0)\n"
     ]
    }
   ],
   "source": [
    "ab1, cd1, dx1, dqx1 = Beam_Coefficient(x1, q1, x0, q0, l0, ab_inv0, cd_inv0)\n",
    "xs, qs = Beam_Displacement(x1, q1, l0, 0.0, ab1, cd1, dx1, dqx1)\n",
    "\n",
    "print(xs, qs)\n",
    "print(x1, q1)\n",
    "\n",
    "xs, qs = Beam_Displacement(x1, q1, l0, 1.0, ab1, cd1, dx1, dqx1)\n",
    "\n",
    "print(xs, qs)\n",
    "print(x0, q0)\n"
   ]
  },
  {
   "cell_type": "code",
   "execution_count": 13,
   "metadata": {},
   "outputs": [],
   "source": [
    "n0 = 100\n",
    "s_array = np.linspace(0, 1, n0)\n",
    "x_array = np.zeros([3, n0])\n",
    "q_array = np.zeros([3, n0])\n",
    "x_array_= np.zeros([3, n0])\n",
    "\n",
    "for i0 in range(n0):\n",
    "    xs, qs = Beam_Displacement(x0, q0, l0, s_array[i0], ab0, cd0, dx0, dqx0)\n",
    "    x_array[:,i0] = xs\n",
    "    q_array[:,i0] = quaternion.rotate_vectors(qs, x_unit)\n",
    "    \n",
    "    xs, qs = Beam_Displacement(x1, q1, l0, 1 - s_array[i0], ab1, cd1, dx1, dqx1)\n",
    "    x_array_[:,i0] = xs\n",
    "    \n",
    "u_array = x_array[:, 2:] - x_array[:, :-2]\n",
    "u_array = u_array / np.sqrt(np.square(u_array).sum(0))\n"
   ]
  },
  {
   "cell_type": "code",
   "execution_count": null,
   "metadata": {},
   "outputs": [],
   "source": []
  },
  {
   "cell_type": "code",
   "execution_count": null,
   "metadata": {},
   "outputs": [],
   "source": []
  },
  {
   "cell_type": "code",
   "execution_count": null,
   "metadata": {},
   "outputs": [],
   "source": []
  }
 ],
 "metadata": {
  "kernelspec": {
   "display_name": "Python 3",
   "language": "python",
   "name": "python3"
  },
  "language_info": {
   "codemirror_mode": {
    "name": "ipython",
    "version": 3
   },
   "file_extension": ".py",
   "mimetype": "text/x-python",
   "name": "python",
   "nbconvert_exporter": "python",
   "pygments_lexer": "ipython3",
   "version": "3.8.5"
  }
 },
 "nbformat": 4,
 "nbformat_minor": 4
}

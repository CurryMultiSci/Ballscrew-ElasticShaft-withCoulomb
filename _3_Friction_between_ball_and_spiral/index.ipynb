{
 "cells": [
  {
   "cell_type": "code",
   "execution_count": 1,
   "metadata": {},
   "outputs": [],
   "source": [
    "import numpy as np\n",
    "\n",
    "class Spiral:\n",
    "\n",
    "    def __init__(self, alp, l, r, eta, R):\n",
    "        self.alp = alp;\n",
    "        self.l   = l;\n",
    "        self.r   = r;\n",
    "        self.eta = eta;\n",
    "        self.R   = R;\n",
    "\n",
    "        self.l_2pi = l / (2 * np.pi);\n",
    "        self.nd    = np.sqrt(self.r*self.r + self.l_2pi*self.l_2pi);\n",
    "        self.l_nd  = self.l_2pi / self.nd;\n",
    "        self.r_nd  = self.r     / self.nd;\n",
    "        return;\n",
    "\n",
    "    def to_eta(self, xyz):\n",
    "        x      = xyz[0];\n",
    "        y      = xyz[1];\n",
    "        z      = xyz[2];\n",
    "        phi    = x / self.nd / self.l_nd;\n",
    "        beta   = phi + self.alp;\n",
    "        s_beta = np.sin(beta);\n",
    "        c_beta = np.cos(beta);\n",
    "        y0     = c_beta * y + s_beta * z;\n",
    "        z0     =-s_beta * y + c_beta * z;\n",
    "        th     = z0 / (y0 + self.l_nd * self.l_2pi / self.r_nd);\n",
    "        ze     = -th * self.l_2pi / self.r_nd;\n",
    "        et     = self.r_nd * self.nd - y0 - y0 * th*th / 2 + self.l_nd * th * ze;\n",
    "        eta  = np.array([th+phi, et, ze]);\n",
    "        return eta;\n",
    "\n",
    "    def to_xyz(self, eta):\n",
    "        th     = eta[0];\n",
    "        beta   = th + self.alp;\n",
    "        s_beta = np.sin(beta);\n",
    "        c_beta = np.cos(beta);\n",
    "        q    = np.array([self.l_2pi * th, self.r * c_beta, self.r * s_beta]);\n",
    "        n    = np.array([0.0, -c_beta, -s_beta]);\n",
    "        b    = np.array([self.r_nd, self.l_nd * s_beta, -self.l_nd * c_beta]);\n",
    "        xyz  = q + eta[1] * n + eta[2] * b;\n",
    "        return xyz;\n",
    "\n",
    "    def to_eta2(self, xyz):\n",
    "        eta0 = self.to_eta(xyz);\n",
    "        xyz0 = self.to_xyz(eta0);\n",
    "        xyz1 = 2 * xyz - xyz0;\n",
    "        eta1 = self.to_eta(xyz1);\n",
    "        return eta1;\n",
    "    \n",
    "    def get_xyz2eta(self, theta):\n",
    "        beta   = theta + self.alp;\n",
    "        s_beta = np.sin(beta);\n",
    "        c_beta = np.cos(beta);\n",
    "\n",
    "        xyz2eta = np.array([\n",
    "            [self.l_nd, -self.r_nd * s_beta, self.r_nd * c_beta,],\n",
    "            [0.0, -c_beta, -s_beta,],\n",
    "            [self.r_nd, self.l_nd * s_beta, -self.l_nd * c_beta]\n",
    "            ])\n",
    "        return xyz2eta;\n",
    "    \n",
    "    def get_contact(self, xyz, R):\n",
    "        eta = self.to_eta2(xyz)[1:]\n",
    "        eF  = eta - self.eta\n",
    "        print(eF)\n"
   ]
  },
  {
   "cell_type": "code",
   "execution_count": 2,
   "metadata": {},
   "outputs": [],
   "source": [
    "R=0.05\n",
    "SP0 = Spiral(alp=-0.0001, l=0.6, r=0.8, eta=np.array([0.00141421356, 0.00141421356]), R=0.052)\n",
    "SP1 = Spiral(alp=+0.0001, l=0.6, r=0.8, eta=np.array([0.00141421356, 0.00141421356]), R=0.052)\n"
   ]
  },
  {
   "cell_type": "code",
   "execution_count": 3,
   "metadata": {},
   "outputs": [
    {
     "name": "stdout",
     "output_type": "stream",
     "text": [
      "[-0.00141421 -0.0014237 ]\n",
      "None\n",
      "[-9.85951870e-05  7.89528141e-13  9.48198447e-06]\n"
     ]
    }
   ],
   "source": [
    "xyz = np.array([0.0, 0.8, 0.0])\n",
    "\n",
    "eta0 = SP0.get_contact(xyz, R)\n",
    "print(eta0)\n",
    "\n",
    "eta1 = SP1.to_eta2(xyz)\n",
    "print(eta1)"
   ]
  },
  {
   "cell_type": "code",
   "execution_count": 4,
   "metadata": {},
   "outputs": [
    {
     "ename": "NameError",
     "evalue": "name 'SP' is not defined",
     "output_type": "error",
     "traceback": [
      "\u001b[1;31m---------------------------------------------------------------------------\u001b[0m",
      "\u001b[1;31mNameError\u001b[0m                                 Traceback (most recent call last)",
      "\u001b[1;32m<ipython-input-4-2584646c9b8a>\u001b[0m in \u001b[0;36m<module>\u001b[1;34m\u001b[0m\n\u001b[1;32m----> 1\u001b[1;33m \u001b[0mSP\u001b[0m\u001b[1;33m.\u001b[0m\u001b[0mto_xyz\u001b[0m\u001b[1;33m(\u001b[0m\u001b[0meta\u001b[0m\u001b[1;33m)\u001b[0m\u001b[1;33m\u001b[0m\u001b[1;33m\u001b[0m\u001b[0m\n\u001b[0m",
      "\u001b[1;31mNameError\u001b[0m: name 'SP' is not defined"
     ]
    }
   ],
   "source": [
    "SP.to_xyz(eta)"
   ]
  },
  {
   "cell_type": "code",
   "execution_count": 5,
   "metadata": {},
   "outputs": [
    {
     "ename": "NameError",
     "evalue": "name 'SP' is not defined",
     "output_type": "error",
     "traceback": [
      "\u001b[1;31m---------------------------------------------------------------------------\u001b[0m",
      "\u001b[1;31mNameError\u001b[0m                                 Traceback (most recent call last)",
      "\u001b[1;32m<ipython-input-5-094583f59363>\u001b[0m in \u001b[0;36m<module>\u001b[1;34m\u001b[0m\n\u001b[1;32m----> 1\u001b[1;33m \u001b[0mSP\u001b[0m\u001b[1;33m.\u001b[0m\u001b[0mget_xyz2eta\u001b[0m\u001b[1;33m(\u001b[0m\u001b[1;36m0.04\u001b[0m\u001b[1;33m)\u001b[0m\u001b[1;33m\u001b[0m\u001b[1;33m\u001b[0m\u001b[0m\n\u001b[0m",
      "\u001b[1;31mNameError\u001b[0m: name 'SP' is not defined"
     ]
    }
   ],
   "source": [
    "SP.get_xyz2eta(0.04)"
   ]
  },
  {
   "cell_type": "code",
   "execution_count": null,
   "metadata": {},
   "outputs": [],
   "source": []
  }
 ],
 "metadata": {
  "kernelspec": {
   "display_name": "Python 3",
   "language": "python",
   "name": "python3"
  },
  "language_info": {
   "codemirror_mode": {
    "name": "ipython",
    "version": 3
   },
   "file_extension": ".py",
   "mimetype": "text/x-python",
   "name": "python",
   "nbconvert_exporter": "python",
   "pygments_lexer": "ipython3",
   "version": "3.8.5"
  }
 },
 "nbformat": 4,
 "nbformat_minor": 4
}
